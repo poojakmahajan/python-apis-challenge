{
 "cells": [
  {
   "cell_type": "markdown",
   "metadata": {},
   "source": [
    "# WeatherPy\n",
    "----\n",
    "\n",
    "#### Note\n",
    "* Instructions have been included for each segment. You do not have to follow them exactly, but they are included to help you think through the steps."
   ]
  },
  {
   "cell_type": "code",
   "execution_count": 118,
   "metadata": {
    "scrolled": true
   },
   "outputs": [],
   "source": [
    "# Dependencies and Setup\n",
    "import matplotlib.pyplot as plt\n",
    "import pandas as pd\n",
    "import numpy as np\n",
    "import requests\n",
    "import time\n",
    "from scipy.stats import linregress\n",
    "from ratelimiter import RateLimiter\n",
    "import json\n",
    "#from config import api_key\n",
    "\n",
    "# Import API key\n",
    "from api_keys import weather_api_key\n",
    "\n",
    "# Incorporated citipy to determine city based on latitude and longitude\n",
    "from citipy import citipy\n",
    "\n",
    "# Output File (CSV)\n",
    "output_data_file = \"output_data/cities.csv\"\n",
    "\n",
    "# Range of latitudes and longitudes\n",
    "lat_range = (-90, 90)\n",
    "lng_range = (-180, 180)"
   ]
  },
  {
   "cell_type": "markdown",
   "metadata": {},
   "source": [
    "## Generate Cities List"
   ]
  },
  {
   "cell_type": "code",
   "execution_count": 119,
   "metadata": {},
   "outputs": [
    {
     "data": {
      "text/plain": [
       "664"
      ]
     },
     "execution_count": 119,
     "metadata": {},
     "output_type": "execute_result"
    }
   ],
   "source": [
    "# List for holding lat_lngs and cities\n",
    "lat_lngs = []\n",
    "cities = []\n",
    "\n",
    "# Create a set of random lat and lng combinations\n",
    "lats = np.random.uniform(lat_range[0], lat_range[1], size=1500)\n",
    "lngs = np.random.uniform(lng_range[0], lng_range[1], size=1500)\n",
    "lat_lngs = zip(lats, lngs)\n",
    "\n",
    "# Identify nearest city for each lat, lng combination\n",
    "for lat_lng in lat_lngs:\n",
    "    city = citipy.nearest_city(lat_lng[0], lat_lng[1]).city_name\n",
    "    \n",
    "    # If the city is unique, then add it to a our cities list\n",
    "    if city not in cities:\n",
    "        cities.append(city)\n",
    "\n",
    "# Print the city count to confirm sufficient count\n",
    "len(cities)\n",
    "\n",
    "#cities_df = pd.DataFrame({\"city\": cities})\n",
    "#cities_df.head()"
   ]
  },
  {
   "cell_type": "code",
   "execution_count": null,
   "metadata": {},
   "outputs": [],
   "source": []
  },
  {
   "cell_type": "markdown",
   "metadata": {},
   "source": [
    "### Perform API Calls\n",
    "* Perform a weather check on each city using a series of successive API calls.\n",
    "* Include a print log of each city as it'sbeing processed (with the city number and city name).\n",
    "\n",
    "> **HINT:** The OpenWeatherMap API only allows 60 calls per minute under their free plan. Try using `time.sleep(60)` after each set of 50 cities to avoid API errors due to large calls."
   ]
  },
  {
   "cell_type": "code",
   "execution_count": 120,
   "metadata": {
    "scrolled": true
   },
   "outputs": [
    {
     "name": "stdout",
     "output_type": "stream",
     "text": [
      "Retrieving Results for Index 0: butaritari\n",
      "Retrieving Results for Index 1: sola\n",
      "Retrieving Results for Index 2: yellowknife\n",
      "Retrieving Results for Index 3: qaanaaq\n",
      "Retrieving Results for Index 4: hilo\n",
      "Retrieving Results for Index 5: gueret\n",
      "Retrieving Results for Index 6: upernavik\n",
      "Retrieving Results for Index 7: ushuaia\n",
      "Retrieving Results for Index 8: tiksi\n",
      "Retrieving Results for Index 9: kudahuvadhoo\n",
      "Retrieving Results for Index 10: punta arenas\n",
      "Retrieving Results for Index 11: cape town\n",
      "Retrieving Results for Index 12: hobart\n",
      "Retrieving Results for Index 13: clyde river\n",
      "Retrieving Results for Index 14: rikitea\n",
      "Retrieving Results for Index 15: livingston\n",
      "Retrieving Results for Index 16: plettenberg bay\n",
      "Retrieving Results for Index 17: pokhara\n",
      "Retrieving Results for Index 18: bluff\n",
      "Retrieving Results for Index 19: tasiilaq\n",
      "Retrieving Results for Index 20: dinard\n",
      "Retrieving Results for Index 21: iqaluit\n",
      "Retrieving Results for Index 22: vaini\n",
      "Retrieving Results for Index 23: albany\n",
      "Retrieving Results for Index 24: puerto ayora\n",
      "Retrieving Results for Index 25: coronado\n",
      "Retrieving Results for Index 26: umzimvubu\n",
      "Missing field.. skipping\n",
      "Retrieving Results for Index 27: lata\n",
      "Retrieving Results for Index 28: baybay\n",
      "Retrieving Results for Index 29: tsihombe\n",
      "Missing field.. skipping\n",
      "Retrieving Results for Index 30: ponta do sol\n",
      "Retrieving Results for Index 31: bathsheba\n",
      "Retrieving Results for Index 32: dzhebariki-khaya\n",
      "Retrieving Results for Index 33: beringovskiy\n",
      "Retrieving Results for Index 34: sao joao da barra\n",
      "Retrieving Results for Index 35: jamestown\n",
      "Retrieving Results for Index 36: alofi\n",
      "Retrieving Results for Index 37: boyolangu\n",
      "Retrieving Results for Index 38: namtsy\n",
      "Retrieving Results for Index 39: sabana de torres\n",
      "Retrieving Results for Index 40: hochstadt\n",
      "Retrieving Results for Index 41: sept-iles\n",
      "Retrieving Results for Index 42: metro\n",
      "Retrieving Results for Index 43: bredasdorp\n",
      "Retrieving Results for Index 44: dzaoudzi\n",
      "Retrieving Results for Index 45: hithadhoo\n",
      "Retrieving Results for Index 46: yalkhoy-mokhk\n",
      "Retrieving Results for Index 47: tilichiki\n",
      "Retrieving Results for Index 48: chicama\n",
      "Retrieving Results for Index 49: nikolskoye\n",
      "Retrieving Results for Index 50: svetlyy\n",
      "Retrieving Results for Index 51: qasigiannguit\n",
      "Retrieving Results for Index 52: barentsburg\n",
      "Missing field.. skipping\n",
      "Retrieving Results for Index 53: kapaa\n",
      "Retrieving Results for Index 54: atuona\n",
      "Retrieving Results for Index 55: amderma\n",
      "Missing field.. skipping\n",
      "Retrieving Results for Index 56: skalistyy\n",
      "Missing field.. skipping\n",
      "Retrieving Results for Index 57: chuy\n",
      "Retrieving Results for Index 58: cayenne\n",
      "Retrieving Results for Index 59: bethel\n",
      "Retrieving Results for Index 60: saint anthony\n",
      "Retrieving Results for Index 61: port alfred\n",
      "Retrieving Results for Index 62: illoqqortoormiut\n",
      "Missing field.. skipping\n",
      "Retrieving Results for Index 63: jinchang\n",
      "Retrieving Results for Index 64: padang\n",
      "Retrieving Results for Index 65: salalah\n",
      "Retrieving Results for Index 66: hermanus\n",
      "Retrieving Results for Index 67: umba\n",
      "Retrieving Results for Index 68: oktyabrskoye\n",
      "Retrieving Results for Index 69: georgetown\n",
      "Retrieving Results for Index 70: isangel\n",
      "Retrieving Results for Index 71: bani\n",
      "Retrieving Results for Index 72: grand river south east\n",
      "Missing field.. skipping\n",
      "Retrieving Results for Index 73: vaitape\n",
      "Retrieving Results for Index 74: dekoa\n",
      "Missing field.. skipping\n",
      "Retrieving Results for Index 75: tuatapere\n",
      "Retrieving Results for Index 76: pueblo\n",
      "Retrieving Results for Index 77: saint-philippe\n",
      "Retrieving Results for Index 78: taolanaro\n",
      "Missing field.. skipping\n",
      "Retrieving Results for Index 79: sibiti\n",
      "Retrieving Results for Index 80: houma\n",
      "Retrieving Results for Index 81: mataura\n",
      "Retrieving Results for Index 82: faanui\n",
      "Retrieving Results for Index 83: pontianak\n",
      "Retrieving Results for Index 84: belushya guba\n",
      "Missing field.. skipping\n",
      "Retrieving Results for Index 85: srednekolymsk\n",
      "Retrieving Results for Index 86: bodden town\n",
      "Retrieving Results for Index 87: iracoubo\n",
      "Retrieving Results for Index 88: killybegs\n",
      "Retrieving Results for Index 89: torbay\n",
      "Retrieving Results for Index 90: moree\n",
      "Retrieving Results for Index 91: agadez\n",
      "Retrieving Results for Index 92: touros\n",
      "Retrieving Results for Index 93: olinda\n",
      "Retrieving Results for Index 94: antalaha\n",
      "Retrieving Results for Index 95: ostrovnoy\n",
      "Retrieving Results for Index 96: pasighat\n",
      "Retrieving Results for Index 97: busselton\n",
      "Retrieving Results for Index 98: coihaique\n",
      "Retrieving Results for Index 99: namibe\n",
      "Retrieving Results for Index 100: avarua\n",
      "Retrieving Results for Index 101: yerbogachen\n",
      "Retrieving Results for Index 102: broome\n",
      "Retrieving Results for Index 103: lincoln\n",
      "Retrieving Results for Index 104: new norfolk\n",
      "Retrieving Results for Index 105: kungurtug\n",
      "Retrieving Results for Index 106: glarus\n",
      "Retrieving Results for Index 107: pevek\n",
      "Retrieving Results for Index 108: beira\n",
      "Retrieving Results for Index 109: east london\n",
      "Retrieving Results for Index 110: sitka\n",
      "Retrieving Results for Index 111: shingu\n",
      "Retrieving Results for Index 112: ola\n",
      "Retrieving Results for Index 113: road town\n",
      "Retrieving Results for Index 114: samarai\n",
      "Retrieving Results for Index 115: seoul\n",
      "Retrieving Results for Index 116: barrow\n",
      "Retrieving Results for Index 117: yebaishou\n",
      "Retrieving Results for Index 118: saleaula\n",
      "Missing field.. skipping\n",
      "Retrieving Results for Index 119: kirakira\n",
      "Retrieving Results for Index 120: port blair\n",
      "Retrieving Results for Index 121: tadine\n",
      "Retrieving Results for Index 122: grindavik\n",
      "Retrieving Results for Index 123: kahului\n",
      "Retrieving Results for Index 124: kuchurhan\n",
      "Retrieving Results for Index 125: mount gambier\n",
      "Retrieving Results for Index 126: mareeba\n",
      "Retrieving Results for Index 127: nizhneyansk\n",
      "Missing field.. skipping\n",
      "Retrieving Results for Index 128: vanavara\n",
      "Retrieving Results for Index 129: izumo\n",
      "Retrieving Results for Index 130: colac\n",
      "Retrieving Results for Index 131: guerrero negro\n",
      "Retrieving Results for Index 132: buala\n",
      "Retrieving Results for Index 133: tecoanapa\n",
      "Retrieving Results for Index 134: katsuura\n",
      "Retrieving Results for Index 135: castro\n",
      "Retrieving Results for Index 136: iquique\n",
      "Retrieving Results for Index 137: buqayq\n",
      "Missing field.. skipping\n",
      "Retrieving Results for Index 138: ilulissat\n",
      "Retrieving Results for Index 139: deputatskiy\n",
      "Retrieving Results for Index 140: nome\n",
      "Retrieving Results for Index 141: cienfuegos\n",
      "Retrieving Results for Index 142: carnarvon\n",
      "Retrieving Results for Index 143: broken hill\n",
      "Retrieving Results for Index 144: sinnamary\n",
      "Retrieving Results for Index 145: phrai bung\n",
      "Missing field.. skipping\n",
      "Retrieving Results for Index 146: esperance\n",
      "Retrieving Results for Index 147: liverpool\n",
      "Retrieving Results for Index 148: khatanga\n",
      "Retrieving Results for Index 149: longyearbyen\n",
      "Retrieving Results for Index 150: norrtalje\n",
      "Retrieving Results for Index 151: wanning\n",
      "Retrieving Results for Index 152: kasongo-lunda\n",
      "Retrieving Results for Index 153: saint-pierre\n",
      "Retrieving Results for Index 154: sentyabrskiy\n",
      "Missing field.. skipping\n",
      "Retrieving Results for Index 155: saint george\n",
      "Retrieving Results for Index 156: visby\n",
      "Retrieving Results for Index 157: truckee\n",
      "Retrieving Results for Index 158: port elizabeth\n",
      "Retrieving Results for Index 159: dzhusaly\n",
      "Missing field.. skipping\n",
      "Retrieving Results for Index 160: gbadolite\n",
      "Retrieving Results for Index 161: kemri\n",
      "Retrieving Results for Index 162: reshetylivka\n",
      "Retrieving Results for Index 163: victoria\n",
      "Retrieving Results for Index 164: cherskiy\n",
      "Retrieving Results for Index 165: ormond beach\n",
      "Retrieving Results for Index 166: brownsville\n",
      "Retrieving Results for Index 167: thompson\n",
      "Retrieving Results for Index 168: aleksin\n",
      "Retrieving Results for Index 169: seymchan\n",
      "Retrieving Results for Index 170: arraial do cabo\n",
      "Retrieving Results for Index 171: samusu\n",
      "Missing field.. skipping\n",
      "Retrieving Results for Index 172: qeshm\n",
      "Retrieving Results for Index 173: annau\n",
      "Retrieving Results for Index 174: macia\n",
      "Retrieving Results for Index 175: fairbanks\n",
      "Retrieving Results for Index 176: hami\n",
      "Retrieving Results for Index 177: imeni zhelyabova\n",
      "Retrieving Results for Index 178: sorong\n",
      "Retrieving Results for Index 179: caravelas\n",
      "Retrieving Results for Index 180: pacific grove\n",
      "Retrieving Results for Index 181: tessalit\n"
     ]
    },
    {
     "name": "stdout",
     "output_type": "stream",
     "text": [
      "Retrieving Results for Index 182: moron\n",
      "Retrieving Results for Index 183: northam\n",
      "Retrieving Results for Index 184: kuryk\n",
      "Retrieving Results for Index 185: college\n",
      "Retrieving Results for Index 186: ust-kuyga\n",
      "Retrieving Results for Index 187: kloulklubed\n",
      "Retrieving Results for Index 188: dikson\n",
      "Retrieving Results for Index 189: itoman\n",
      "Retrieving Results for Index 190: bitam\n",
      "Retrieving Results for Index 191: iralaya\n",
      "Retrieving Results for Index 192: mehamn\n",
      "Retrieving Results for Index 193: ribeira grande\n",
      "Retrieving Results for Index 194: maldonado\n",
      "Retrieving Results for Index 195: waipawa\n",
      "Retrieving Results for Index 196: kavieng\n",
      "Retrieving Results for Index 197: fernley\n",
      "Retrieving Results for Index 198: nanortalik\n",
      "Retrieving Results for Index 199: cidreira\n",
      "Retrieving Results for Index 200: kodiak\n",
      "Retrieving Results for Index 201: rudbar\n",
      "Retrieving Results for Index 202: cuamba\n",
      "Retrieving Results for Index 203: roma\n",
      "Retrieving Results for Index 204: mar del plata\n",
      "Retrieving Results for Index 205: san quintin\n",
      "Retrieving Results for Index 206: wright\n",
      "Retrieving Results for Index 207: vancouver\n",
      "Retrieving Results for Index 208: taoudenni\n",
      "Retrieving Results for Index 209: kaitangata\n",
      "Retrieving Results for Index 210: vanimo\n",
      "Retrieving Results for Index 211: ploemeur\n",
      "Retrieving Results for Index 212: panzhihua\n",
      "Retrieving Results for Index 213: gat\n",
      "Retrieving Results for Index 214: venice\n",
      "Retrieving Results for Index 215: honiara\n",
      "Retrieving Results for Index 216: tottori\n",
      "Retrieving Results for Index 217: chilliwack\n",
      "Retrieving Results for Index 218: saint-georges\n",
      "Retrieving Results for Index 219: meleuz\n",
      "Retrieving Results for Index 220: saskylakh\n",
      "Retrieving Results for Index 221: tura\n",
      "Retrieving Results for Index 222: malumfashi\n",
      "Retrieving Results for Index 223: turtkul\n",
      "Missing field.. skipping\n",
      "Retrieving Results for Index 224: rapid valley\n",
      "Retrieving Results for Index 225: arlit\n",
      "Retrieving Results for Index 226: impfondo\n",
      "Retrieving Results for Index 227: coquimbo\n",
      "Retrieving Results for Index 228: derzhavinsk\n",
      "Retrieving Results for Index 229: haifa\n",
      "Retrieving Results for Index 230: sao filipe\n",
      "Retrieving Results for Index 231: taunggyi\n",
      "Retrieving Results for Index 232: beloha\n",
      "Retrieving Results for Index 233: mentok\n",
      "Missing field.. skipping\n",
      "Retrieving Results for Index 234: inhambane\n",
      "Retrieving Results for Index 235: mys shmidta\n",
      "Missing field.. skipping\n",
      "Retrieving Results for Index 236: sabang\n",
      "Retrieving Results for Index 237: norman wells\n",
      "Retrieving Results for Index 238: yamada\n",
      "Retrieving Results for Index 239: petropavlovsk-kamchatskiy\n",
      "Retrieving Results for Index 240: nyurba\n",
      "Retrieving Results for Index 241: barstow\n",
      "Retrieving Results for Index 242: tuktoyaktuk\n",
      "Retrieving Results for Index 243: biak\n",
      "Retrieving Results for Index 244: narsaq\n",
      "Retrieving Results for Index 245: iskateley\n",
      "Retrieving Results for Index 246: acapulco\n",
      "Retrieving Results for Index 247: los llanos de aridane\n",
      "Retrieving Results for Index 248: bambous virieux\n",
      "Retrieving Results for Index 249: rocha\n",
      "Retrieving Results for Index 250: manokwari\n",
      "Retrieving Results for Index 251: mahebourg\n",
      "Retrieving Results for Index 252: hay river\n",
      "Retrieving Results for Index 253: luderitz\n",
      "Retrieving Results for Index 254: sukhumi\n",
      "Retrieving Results for Index 255: udachnyy\n",
      "Retrieving Results for Index 256: banepa\n",
      "Retrieving Results for Index 257: canico\n",
      "Retrieving Results for Index 258: umm lajj\n",
      "Retrieving Results for Index 259: uxbridge\n",
      "Retrieving Results for Index 260: claveria\n",
      "Retrieving Results for Index 261: denpasar\n",
      "Retrieving Results for Index 262: mitu\n",
      "Retrieving Results for Index 263: provideniya\n",
      "Retrieving Results for Index 264: airai\n",
      "Retrieving Results for Index 265: kuching\n",
      "Retrieving Results for Index 266: north myrtle beach\n",
      "Retrieving Results for Index 267: raymondville\n",
      "Retrieving Results for Index 268: wum\n",
      "Retrieving Results for Index 269: kensington\n",
      "Retrieving Results for Index 270: port lincoln\n",
      "Retrieving Results for Index 271: the valley\n",
      "Retrieving Results for Index 272: george town\n",
      "Retrieving Results for Index 273: hollola\n",
      "Retrieving Results for Index 274: egvekinot\n",
      "Retrieving Results for Index 275: huron\n",
      "Retrieving Results for Index 276: emba\n",
      "Retrieving Results for Index 277: ambon\n",
      "Retrieving Results for Index 278: codrington\n",
      "Retrieving Results for Index 279: pimentel\n",
      "Retrieving Results for Index 280: lolua\n",
      "Missing field.. skipping\n",
      "Retrieving Results for Index 281: conceicao da barra\n",
      "Retrieving Results for Index 282: upington\n",
      "Retrieving Results for Index 283: coahuayana\n",
      "Retrieving Results for Index 284: marcona\n",
      "Missing field.. skipping\n",
      "Retrieving Results for Index 285: miram shah\n",
      "Retrieving Results for Index 286: tazovskiy\n",
      "Retrieving Results for Index 287: sumkino\n",
      "Retrieving Results for Index 288: winslow\n",
      "Retrieving Results for Index 289: bray\n",
      "Retrieving Results for Index 290: sinkat\n",
      "Missing field.. skipping\n",
      "Retrieving Results for Index 291: henties bay\n",
      "Retrieving Results for Index 292: daru\n",
      "Retrieving Results for Index 293: gazli\n",
      "Retrieving Results for Index 294: ancud\n",
      "Retrieving Results for Index 295: glens falls\n",
      "Retrieving Results for Index 296: dunedin\n",
      "Retrieving Results for Index 297: bonthe\n",
      "Retrieving Results for Index 298: fort nelson\n",
      "Retrieving Results for Index 299: inongo\n",
      "Retrieving Results for Index 300: santa maria\n",
      "Retrieving Results for Index 301: hasaki\n",
      "Retrieving Results for Index 302: vila velha\n",
      "Retrieving Results for Index 303: chapleau\n",
      "Retrieving Results for Index 304: pahalgam\n",
      "Retrieving Results for Index 305: sinop\n",
      "Retrieving Results for Index 306: chokurdakh\n",
      "Retrieving Results for Index 307: kysyl-syr\n",
      "Retrieving Results for Index 308: palu\n",
      "Retrieving Results for Index 309: oistins\n",
      "Retrieving Results for Index 310: bull savanna\n",
      "Retrieving Results for Index 311: souillac\n",
      "Retrieving Results for Index 312: mackay\n",
      "Retrieving Results for Index 313: yuzhno-yeniseyskiy\n",
      "Missing field.. skipping\n",
      "Retrieving Results for Index 314: akdepe\n",
      "Retrieving Results for Index 315: puerto colombia\n",
      "Retrieving Results for Index 316: neiafu\n",
      "Retrieving Results for Index 317: sorvag\n",
      "Missing field.. skipping\n",
      "Retrieving Results for Index 318: port-gentil\n",
      "Retrieving Results for Index 319: popondetta\n",
      "Retrieving Results for Index 320: mgandu\n",
      "Retrieving Results for Index 321: bahia honda\n",
      "Retrieving Results for Index 322: hannibal\n",
      "Retrieving Results for Index 323: tateyama\n",
      "Retrieving Results for Index 324: nanakuli\n",
      "Retrieving Results for Index 325: albanel\n",
      "Retrieving Results for Index 326: wukari\n",
      "Retrieving Results for Index 327: shenjiamen\n",
      "Retrieving Results for Index 328: leningradskiy\n",
      "Retrieving Results for Index 329: tumannyy\n",
      "Missing field.. skipping\n",
      "Retrieving Results for Index 330: shimoda\n",
      "Retrieving Results for Index 331: whyalla\n",
      "Retrieving Results for Index 332: formoso do araguaia\n",
      "Missing field.. skipping\n",
      "Retrieving Results for Index 333: alta floresta\n",
      "Retrieving Results for Index 334: surt\n",
      "Retrieving Results for Index 335: vaitupu\n",
      "Missing field.. skipping\n",
      "Retrieving Results for Index 336: korla\n",
      "Retrieving Results for Index 337: te anau\n",
      "Retrieving Results for Index 338: lorengau\n",
      "Retrieving Results for Index 339: paita\n",
      "Retrieving Results for Index 340: rio grande\n",
      "Retrieving Results for Index 341: atar\n",
      "Retrieving Results for Index 342: maxixe\n",
      "Retrieving Results for Index 343: pierre\n",
      "Retrieving Results for Index 344: suluq\n",
      "Retrieving Results for Index 345: vila do maio\n",
      "Retrieving Results for Index 346: dudinka\n",
      "Retrieving Results for Index 347: sassandra\n",
      "Retrieving Results for Index 348: cockburn town\n",
      "Retrieving Results for Index 349: shubarshi\n",
      "Retrieving Results for Index 350: la ciotat\n",
      "Retrieving Results for Index 351: nizip\n",
      "Retrieving Results for Index 352: vila franca do campo\n",
      "Retrieving Results for Index 353: acheng\n",
      "Retrieving Results for Index 354: cabo san lucas\n",
      "Retrieving Results for Index 355: halalo\n",
      "Missing field.. skipping\n",
      "Retrieving Results for Index 356: zasheyek\n",
      "Retrieving Results for Index 357: beidao\n",
      "Retrieving Results for Index 358: kawalu\n",
      "Retrieving Results for Index 359: yanam\n",
      "Retrieving Results for Index 360: japura\n",
      "Retrieving Results for Index 361: santa isabel do rio negro\n",
      "Retrieving Results for Index 362: havelock\n",
      "Retrieving Results for Index 363: bathurst\n",
      "Retrieving Results for Index 364: xinzhi\n"
     ]
    },
    {
     "name": "stdout",
     "output_type": "stream",
     "text": [
      "Retrieving Results for Index 365: melendugno\n",
      "Retrieving Results for Index 366: orlik\n",
      "Retrieving Results for Index 367: vallenar\n",
      "Retrieving Results for Index 368: maumere\n",
      "Retrieving Results for Index 369: urumqi\n",
      "Retrieving Results for Index 370: sambava\n",
      "Retrieving Results for Index 371: kortkeros\n",
      "Retrieving Results for Index 372: tianpeng\n",
      "Retrieving Results for Index 373: slave lake\n",
      "Retrieving Results for Index 374: nassau\n",
      "Retrieving Results for Index 375: meulaboh\n",
      "Retrieving Results for Index 376: kirksville\n",
      "Retrieving Results for Index 377: bumbuna\n",
      "Retrieving Results for Index 378: nola\n",
      "Retrieving Results for Index 379: luan\n",
      "Retrieving Results for Index 380: mahibadhoo\n",
      "Retrieving Results for Index 381: hambantota\n",
      "Retrieving Results for Index 382: byron bay\n",
      "Retrieving Results for Index 383: murashi\n",
      "Retrieving Results for Index 384: pirogovo\n",
      "Retrieving Results for Index 385: mikhaylovsk\n",
      "Retrieving Results for Index 386: saldanha\n",
      "Retrieving Results for Index 387: songjianghe\n",
      "Retrieving Results for Index 388: carutapera\n",
      "Retrieving Results for Index 389: kitgum\n",
      "Retrieving Results for Index 390: palmer\n",
      "Retrieving Results for Index 391: mrirt\n",
      "Missing field.. skipping\n",
      "Retrieving Results for Index 392: taltal\n",
      "Retrieving Results for Index 393: gravdal\n",
      "Retrieving Results for Index 394: kumano\n",
      "Retrieving Results for Index 395: galesong\n",
      "Retrieving Results for Index 396: kidal\n",
      "Retrieving Results for Index 397: buraydah\n",
      "Retrieving Results for Index 398: akyab\n",
      "Retrieving Results for Index 399: nokaneng\n",
      "Retrieving Results for Index 400: muzhi\n",
      "Retrieving Results for Index 401: santa marta de tormes\n",
      "Retrieving Results for Index 402: duz\n",
      "Missing field.. skipping\n",
      "Retrieving Results for Index 403: pisco\n",
      "Retrieving Results for Index 404: comodoro rivadavia\n",
      "Retrieving Results for Index 405: vestmannaeyjar\n",
      "Retrieving Results for Index 406: somerset\n",
      "Retrieving Results for Index 407: hermosillo\n",
      "Retrieving Results for Index 408: susanville\n",
      "Retrieving Results for Index 409: oxapampa\n",
      "Retrieving Results for Index 410: bambanglipuro\n",
      "Retrieving Results for Index 411: otuzco\n",
      "Retrieving Results for Index 412: gebre guracha\n",
      "Retrieving Results for Index 413: ugoofaaru\n",
      "Retrieving Results for Index 414: lakatoro\n",
      "Retrieving Results for Index 415: yumen\n",
      "Retrieving Results for Index 416: chernolesskoye\n",
      "Retrieving Results for Index 417: bilibino\n",
      "Retrieving Results for Index 418: avenal\n",
      "Retrieving Results for Index 419: baykit\n",
      "Retrieving Results for Index 420: pangnirtung\n",
      "Retrieving Results for Index 421: talakan\n",
      "Retrieving Results for Index 422: callaguip\n",
      "Retrieving Results for Index 423: asau\n",
      "Retrieving Results for Index 424: palabuhanratu\n",
      "Missing field.. skipping\n",
      "Retrieving Results for Index 425: aktash\n",
      "Retrieving Results for Index 426: sault sainte marie\n",
      "Retrieving Results for Index 427: shelburne\n",
      "Retrieving Results for Index 428: aykhal\n",
      "Retrieving Results for Index 429: zhob\n",
      "Retrieving Results for Index 430: geraldton\n",
      "Retrieving Results for Index 431: katobu\n",
      "Retrieving Results for Index 432: flin flon\n",
      "Retrieving Results for Index 433: whitianga\n",
      "Retrieving Results for Index 434: bengkulu\n",
      "Retrieving Results for Index 435: huarmey\n",
      "Retrieving Results for Index 436: zhigansk\n",
      "Retrieving Results for Index 437: morant bay\n",
      "Retrieving Results for Index 438: attawapiskat\n",
      "Missing field.. skipping\n",
      "Retrieving Results for Index 439: nhulunbuy\n",
      "Retrieving Results for Index 440: uyuni\n",
      "Retrieving Results for Index 441: kavaratti\n",
      "Retrieving Results for Index 442: tuytepa\n",
      "Retrieving Results for Index 443: poum\n",
      "Retrieving Results for Index 444: yaan\n",
      "Retrieving Results for Index 445: fenyi\n",
      "Retrieving Results for Index 446: barinas\n",
      "Retrieving Results for Index 447: houston\n",
      "Retrieving Results for Index 448: san antonio\n",
      "Retrieving Results for Index 449: brae\n",
      "Retrieving Results for Index 450: mount pleasant\n",
      "Retrieving Results for Index 451: aleksinac\n",
      "Retrieving Results for Index 452: togur\n",
      "Retrieving Results for Index 453: jujuy\n",
      "Missing field.. skipping\n",
      "Retrieving Results for Index 454: thurso\n",
      "Retrieving Results for Index 455: kapoeta\n",
      "Retrieving Results for Index 456: niquero\n",
      "Retrieving Results for Index 457: cheuskiny\n",
      "Missing field.. skipping\n",
      "Retrieving Results for Index 458: clonmel\n",
      "Retrieving Results for Index 459: chenghai\n",
      "Retrieving Results for Index 460: pecos\n",
      "Retrieving Results for Index 461: bacolod\n",
      "Retrieving Results for Index 462: donja dubica\n",
      "Retrieving Results for Index 463: lichinga\n",
      "Retrieving Results for Index 464: adre\n",
      "Retrieving Results for Index 465: rae bareli\n",
      "Retrieving Results for Index 466: salaga\n",
      "Retrieving Results for Index 467: aklavik\n",
      "Retrieving Results for Index 468: hobyo\n",
      "Retrieving Results for Index 469: yulara\n",
      "Retrieving Results for Index 470: aitape\n",
      "Retrieving Results for Index 471: mergui\n",
      "Missing field.. skipping\n",
      "Retrieving Results for Index 472: natal\n",
      "Retrieving Results for Index 473: sanary-sur-mer\n",
      "Retrieving Results for Index 474: sesheke\n",
      "Retrieving Results for Index 475: fare\n",
      "Retrieving Results for Index 476: horta\n",
      "Retrieving Results for Index 477: las choapas\n",
      "Retrieving Results for Index 478: russell\n",
      "Retrieving Results for Index 479: naze\n",
      "Retrieving Results for Index 480: ust-kamchatsk\n",
      "Missing field.. skipping\n",
      "Retrieving Results for Index 481: lebu\n",
      "Retrieving Results for Index 482: zhuhai\n",
      "Retrieving Results for Index 483: maravilha\n",
      "Retrieving Results for Index 484: anadyr\n",
      "Retrieving Results for Index 485: lagos\n",
      "Retrieving Results for Index 486: santa elena\n",
      "Retrieving Results for Index 487: severo-kurilsk\n",
      "Retrieving Results for Index 488: zhezkazgan\n",
      "Retrieving Results for Index 489: ijaki\n",
      "Missing field.. skipping\n",
      "Retrieving Results for Index 490: longlac\n",
      "Missing field.. skipping\n",
      "Retrieving Results for Index 491: fortuna\n",
      "Retrieving Results for Index 492: kurilsk\n",
      "Retrieving Results for Index 493: plast\n",
      "Retrieving Results for Index 494: westport\n",
      "Retrieving Results for Index 495: ellensburg\n",
      "Retrieving Results for Index 496: barawe\n",
      "Missing field.. skipping\n",
      "Retrieving Results for Index 497: black river\n",
      "Retrieving Results for Index 498: outjo\n",
      "Retrieving Results for Index 499: verkhnyaya inta\n",
      "Retrieving Results for Index 500: zorgo\n",
      "Retrieving Results for Index 501: whitehorse\n",
      "Retrieving Results for Index 502: tombouctou\n",
      "Retrieving Results for Index 503: lethbridge\n",
      "Retrieving Results for Index 504: melur\n",
      "Retrieving Results for Index 505: lakes entrance\n",
      "Retrieving Results for Index 506: unicov\n",
      "Retrieving Results for Index 507: tambopata\n",
      "Retrieving Results for Index 508: komsomolskiy\n",
      "Retrieving Results for Index 509: kinanah\n",
      "Missing field.. skipping\n",
      "Retrieving Results for Index 510: malakal\n",
      "Retrieving Results for Index 511: grand gaube\n",
      "Retrieving Results for Index 512: abalak\n",
      "Retrieving Results for Index 513: oslo\n",
      "Retrieving Results for Index 514: homer\n",
      "Retrieving Results for Index 515: shimanovsk\n",
      "Retrieving Results for Index 516: vrangel\n",
      "Retrieving Results for Index 517: bollnas\n",
      "Retrieving Results for Index 518: mount isa\n",
      "Retrieving Results for Index 519: wegorzewo\n",
      "Retrieving Results for Index 520: nobres\n",
      "Retrieving Results for Index 521: lompoc\n",
      "Retrieving Results for Index 522: maputo\n",
      "Retrieving Results for Index 523: santarem\n",
      "Retrieving Results for Index 524: maniitsoq\n",
      "Retrieving Results for Index 525: kruisfontein\n",
      "Retrieving Results for Index 526: vao\n",
      "Retrieving Results for Index 527: nemuro\n",
      "Retrieving Results for Index 528: pucallpa\n",
      "Retrieving Results for Index 529: pirai do sul\n",
      "Retrieving Results for Index 530: thinadhoo\n",
      "Retrieving Results for Index 531: araouane\n",
      "Retrieving Results for Index 532: saint-joseph\n",
      "Retrieving Results for Index 533: talnakh\n",
      "Retrieving Results for Index 534: tir pol\n",
      "Missing field.. skipping\n",
      "Retrieving Results for Index 535: le port\n",
      "Retrieving Results for Index 536: skibbereen\n",
      "Retrieving Results for Index 537: paoua\n",
      "Retrieving Results for Index 538: desert hot springs\n",
      "Retrieving Results for Index 539: tuban\n",
      "Retrieving Results for Index 540: amapa\n",
      "Retrieving Results for Index 541: manhattan\n",
      "Retrieving Results for Index 542: sao miguel do araguaia\n",
      "Retrieving Results for Index 543: klerksdorp\n",
      "Retrieving Results for Index 544: itarema\n",
      "Retrieving Results for Index 545: rawson\n",
      "Retrieving Results for Index 546: ahipara\n",
      "Retrieving Results for Index 547: karratha\n"
     ]
    },
    {
     "name": "stdout",
     "output_type": "stream",
     "text": [
      "Retrieving Results for Index 548: royan\n",
      "Retrieving Results for Index 549: charagua\n",
      "Retrieving Results for Index 550: waitati\n",
      "Retrieving Results for Index 551: rongcheng\n",
      "Retrieving Results for Index 552: muana\n",
      "Retrieving Results for Index 553: santa cruz del norte\n",
      "Retrieving Results for Index 554: otjiwarongo\n",
      "Retrieving Results for Index 555: jumla\n",
      "Retrieving Results for Index 556: louisbourg\n",
      "Missing field.. skipping\n",
      "Retrieving Results for Index 557: eregli\n",
      "Retrieving Results for Index 558: zhangjiakou\n",
      "Retrieving Results for Index 559: karaul\n",
      "Missing field.. skipping\n",
      "Retrieving Results for Index 560: saint-francois\n",
      "Retrieving Results for Index 561: quelimane\n",
      "Retrieving Results for Index 562: haines junction\n",
      "Retrieving Results for Index 563: svetlogorsk\n",
      "Retrieving Results for Index 564: sutysky\n",
      "Retrieving Results for Index 565: bandarbeyla\n",
      "Retrieving Results for Index 566: zachagansk\n",
      "Missing field.. skipping\n",
      "Retrieving Results for Index 567: kanniyakumari\n",
      "Retrieving Results for Index 568: tual\n",
      "Retrieving Results for Index 569: sinazongwe\n",
      "Retrieving Results for Index 570: bursa\n",
      "Retrieving Results for Index 571: champerico\n",
      "Retrieving Results for Index 572: kochinda\n",
      "Retrieving Results for Index 573: zhanaozen\n",
      "Retrieving Results for Index 574: santa cruz\n",
      "Retrieving Results for Index 575: koyilandi\n",
      "Missing field.. skipping\n",
      "Retrieving Results for Index 576: bigaan\n",
      "Retrieving Results for Index 577: watertown\n",
      "Retrieving Results for Index 578: pundaguitan\n",
      "Retrieving Results for Index 579: ruston\n",
      "Retrieving Results for Index 580: iberia\n",
      "Retrieving Results for Index 581: youghal\n",
      "Retrieving Results for Index 582: havoysund\n",
      "Retrieving Results for Index 583: kalga\n",
      "Retrieving Results for Index 584: nambucca heads\n",
      "Retrieving Results for Index 585: rosetown\n",
      "Retrieving Results for Index 586: hirara\n",
      "Retrieving Results for Index 587: khawhai\n",
      "Retrieving Results for Index 588: tanete\n",
      "Retrieving Results for Index 589: grand-lahou\n",
      "Retrieving Results for Index 590: goderich\n",
      "Retrieving Results for Index 591: lannion\n",
      "Retrieving Results for Index 592: gamba\n",
      "Retrieving Results for Index 593: azimur\n",
      "Missing field.. skipping\n",
      "Retrieving Results for Index 594: marzuq\n",
      "Retrieving Results for Index 595: hundested\n",
      "Retrieving Results for Index 596: vilhena\n",
      "Retrieving Results for Index 597: auki\n",
      "Retrieving Results for Index 598: mubi\n",
      "Retrieving Results for Index 599: san patricio\n",
      "Retrieving Results for Index 600: eydhafushi\n",
      "Retrieving Results for Index 601: charters towers\n",
      "Retrieving Results for Index 602: yemelyanovo\n",
      "Retrieving Results for Index 603: boshan\n",
      "Retrieving Results for Index 604: viedma\n",
      "Retrieving Results for Index 605: ayan\n",
      "Retrieving Results for Index 606: constitucion\n",
      "Retrieving Results for Index 607: morro bay\n",
      "Retrieving Results for Index 608: mayumba\n",
      "Retrieving Results for Index 609: bantry\n",
      "Retrieving Results for Index 610: khani\n",
      "Retrieving Results for Index 611: mawlaik\n",
      "Retrieving Results for Index 612: grande-synthe\n",
      "Retrieving Results for Index 613: novobirilyussy\n",
      "Retrieving Results for Index 614: tomatlan\n",
      "Retrieving Results for Index 615: gwadar\n",
      "Retrieving Results for Index 616: malindi\n",
      "Retrieving Results for Index 617: magnor\n",
      "Retrieving Results for Index 618: vardo\n",
      "Retrieving Results for Index 619: kibondo\n",
      "Retrieving Results for Index 620: hualmay\n",
      "Retrieving Results for Index 621: ialibu\n",
      "Retrieving Results for Index 622: otavi\n",
      "Retrieving Results for Index 623: ust-ordynskiy\n",
      "Retrieving Results for Index 624: hofn\n",
      "Retrieving Results for Index 625: manono\n",
      "Retrieving Results for Index 626: lumberton\n",
      "Retrieving Results for Index 627: puerto escondido\n",
      "Retrieving Results for Index 628: port macquarie\n",
      "Retrieving Results for Index 629: rudnogorsk\n",
      "Retrieving Results for Index 630: dodoma\n",
      "Retrieving Results for Index 631: adrar\n",
      "Retrieving Results for Index 632: murgab\n",
      "Retrieving Results for Index 633: benguela\n",
      "Retrieving Results for Index 634: wolmaranstad\n",
      "Missing field.. skipping\n",
      "Retrieving Results for Index 635: riachao\n",
      "Retrieving Results for Index 636: novyy urengoy\n",
      "Retrieving Results for Index 637: labuhan\n",
      "Retrieving Results for Index 638: zlatoust\n",
      "Retrieving Results for Index 639: sangar\n",
      "Retrieving Results for Index 640: deltona\n",
      "Retrieving Results for Index 641: akhalgori\n",
      "Retrieving Results for Index 642: almaznyy\n",
      "Retrieving Results for Index 643: hihifo\n",
      "Missing field.. skipping\n",
      "Retrieving Results for Index 644: alice springs\n",
      "Retrieving Results for Index 645: lochgilphead\n",
      "Retrieving Results for Index 646: resistencia\n",
      "Retrieving Results for Index 647: moose factory\n",
      "Retrieving Results for Index 648: nago\n",
      "Retrieving Results for Index 649: tshikapa\n",
      "Retrieving Results for Index 650: mabaruma\n",
      "Retrieving Results for Index 651: bandundu\n",
      "Retrieving Results for Index 652: salta\n",
      "Retrieving Results for Index 653: inderborskiy\n",
      "Missing field.. skipping\n",
      "Retrieving Results for Index 654: klaksvik\n",
      "Retrieving Results for Index 655: nishihara\n",
      "Retrieving Results for Index 656: xinmin\n",
      "Retrieving Results for Index 657: ubinskoye\n",
      "Retrieving Results for Index 658: appleton\n",
      "Retrieving Results for Index 659: bestobe\n",
      "Retrieving Results for Index 660: nouadhibou\n",
      "Retrieving Results for Index 661: manicore\n",
      "Retrieving Results for Index 662: athabasca\n",
      "Retrieving Results for Index 663: scottsburgh\n",
      "Missing field.. skipping\n",
      "---------------\n"
     ]
    }
   ],
   "source": [
    "#Define url path for the api\n",
    "url = \"http://api.openweathermap.org/data/2.5/weather?\"\n",
    "\n",
    "\n",
    "#rate_limiter = RateLimiter(max_calls=50, period=60)\n",
    "\n",
    "#print(query_url)\n",
    "#response = requests.get(query_url)\n",
    "#response_json = response.json()\n",
    "#print(json.dumps(response_json, indent=4, sort_keys=True))\n",
    "\n",
    "#The first requirement is to create a series of scatter plots to showcase the following relationships:\n",
    "#Temperature (F) vs. Latitude\n",
    "#Humidity (%) vs. Latitude\n",
    "#Cloudiness (%) vs. Latitude\n",
    "#Wind Speed (mph) vs. Latitude\n",
    "\n",
    "cities_df = pd.DataFrame({\"city\": cities})\n",
    "\n",
    "#set up additional columns to hold information\n",
    "cities_df['latitude'] = \"\"\n",
    "cities_df['longitude'] = \"\"\n",
    "cities_df[\"temperature\"] = \"\"\n",
    "cities_df['humidity'] = \"\"\n",
    "cities_df['cloudiness'] = \"\"\n",
    "cities_df['windspeed'] = \"\"\n",
    "\n",
    "#cities_df.head()\n",
    "\n",
    "#loop through the list of cities and perform a request for data on each\n",
    "#iterrows to iterate through pandas dataframe\n",
    "for index, row in cities_df.iterrows():\n",
    "    \n",
    "    #get city from df\n",
    "    city = row[\"city\"]\n",
    "    \n",
    "    #assemble url and make API request\n",
    "    print(f\"Retrieving Results for Index {index}: {city}\")\n",
    "    query_url = url + \"appid=\" + weather_api_key + \"&q=\" + city\n",
    "    response = requests.get(query_url).json()\n",
    "    #print(query_url)\n",
    "    #extract results\n",
    "    #results = response['results']\n",
    "    \n",
    "    try:\n",
    "        cities_df.loc[index, 'latitude'] = response['coord']['lat']\n",
    "        cities_df.loc[index, 'longitude'] = response['coord']['lon']\n",
    "        cities_df.loc[index, 'temperature'] = response['main']['temp_max']\n",
    "        cities_df.loc[index, 'humidity'] = response['main']['humidity']\n",
    "        cities_df.loc[index, 'cloudiness'] = response['clouds']['all']\n",
    "        cities_df.loc[index, 'windspeed'] = response['wind']['speed']\n",
    "    except:\n",
    "        print(\"Missing field.. skipping\")\n",
    "        \n",
    "print(\"---------------\")\n"
   ]
  },
  {
   "cell_type": "code",
   "execution_count": 121,
   "metadata": {},
   "outputs": [],
   "source": [
    "#{\"coord\":{\"lon\":169.8464,\"lat\":-46.2817},\"weather\":[{\"id\":801,\"main\":\"Clouds\",\"description\":\"few clouds\",\"icon\":\"02d\"}],\"base\":\"stations\",\"main\":{\"temp\":293.11,\"feels_like\":292.86,\"temp_min\":293.11,\"temp_max\":293.11,\"pressure\":1006,\"humidity\":65,\"sea_level\":1006,\"grnd_level\":1005},\"visibility\":10000,\"wind\":{\"speed\":2.92,\"deg\":71,\"gust\":5.41},\"clouds\":{\"all\":24},\"dt\":1645153763,\"sys\":{\"type\":2,\"id\":2000217,\"country\":\"NZ\",\"sunrise\":1645120749,\"sunset\":1645170619},\"timezone\":46800,\"id\":2208248,\"name\":\"Kaitangata\",\"cod\":200}"
   ]
  },
  {
   "cell_type": "markdown",
   "metadata": {},
   "source": [
    "### Convert Raw Data to DataFrame\n",
    "* Export the city data into a .csv.\n",
    "* Display the DataFrame"
   ]
  },
  {
   "cell_type": "code",
   "execution_count": 122,
   "metadata": {},
   "outputs": [
    {
     "name": "stdout",
     "output_type": "stream",
     "text": [
      "<class 'pandas.core.frame.DataFrame'>\n",
      "RangeIndex: 664 entries, 0 to 663\n",
      "Data columns (total 7 columns):\n",
      " #   Column       Non-Null Count  Dtype \n",
      "---  ------       --------------  ----- \n",
      " 0   city         664 non-null    object\n",
      " 1   latitude     664 non-null    object\n",
      " 2   longitude    664 non-null    object\n",
      " 3   temperature  664 non-null    object\n",
      " 4   humidity     664 non-null    object\n",
      " 5   cloudiness   664 non-null    object\n",
      " 6   windspeed    664 non-null    object\n",
      "dtypes: object(7)\n",
      "memory usage: 36.4+ KB\n"
     ]
    }
   ],
   "source": [
    "cities_df.info()"
   ]
  },
  {
   "cell_type": "code",
   "execution_count": 123,
   "metadata": {},
   "outputs": [],
   "source": [
    "#cities_df.to_csv()"
   ]
  },
  {
   "cell_type": "markdown",
   "metadata": {},
   "source": [
    "## Inspect the data and remove the cities where the humidity > 100%.\n",
    "----\n",
    "Skip this step if there are no cities that have humidity > 100%. "
   ]
  },
  {
   "cell_type": "code",
   "execution_count": null,
   "metadata": {},
   "outputs": [],
   "source": []
  },
  {
   "cell_type": "code",
   "execution_count": 124,
   "metadata": {},
   "outputs": [],
   "source": [
    "#  Get the indices of cities that have humidity over 100%.\n"
   ]
  },
  {
   "cell_type": "code",
   "execution_count": 125,
   "metadata": {},
   "outputs": [],
   "source": [
    "# Make a new DataFrame equal to the city data to drop all humidity outliers by index.\n",
    "# Passing \"inplace=False\" will make a copy of the city_data DataFrame, which we call \"clean_city_data\".\n"
   ]
  },
  {
   "cell_type": "code",
   "execution_count": null,
   "metadata": {},
   "outputs": [],
   "source": [
    "\n"
   ]
  },
  {
   "cell_type": "markdown",
   "metadata": {},
   "source": [
    "## Plotting the Data\n",
    "* Use proper labeling of the plots using plot titles (including date of analysis) and axes labels.\n",
    "* Save the plotted figures as .pngs."
   ]
  },
  {
   "cell_type": "markdown",
   "metadata": {},
   "source": [
    "## Latitude vs. Temperature Plot"
   ]
  },
  {
   "cell_type": "code",
   "execution_count": 128,
   "metadata": {
    "scrolled": true
   },
   "outputs": [
    {
     "data": {
      "image/png": "[encoded data removed]",
      "text/plain": [
       "<Figure size 432x288 with 1 Axes>"
      ]
     },
     "metadata": {
      "needs_background": "light"
     },
     "output_type": "display_data"
    }
   ],
   "source": [
    "plt.scatter(pd.to_numeric(cities_df[\"latitude\"]).astype(float), pd.to_numeric(cities_df[\"temperature\"]).astype(float), facecolors=\"blue\")\n",
    "plt.title(f\"Latitude vs. Temperature\")\n",
    "plt.xlabel(\"Latitude\")\n",
    "plt.ylabel(\"Temperature\") \n",
    "plt.show()"
   ]
  },
  {
   "cell_type": "markdown",
   "metadata": {},
   "source": [
    "## Latitude vs. Humidity Plot"
   ]
  },
  {
   "cell_type": "code",
   "execution_count": 129,
   "metadata": {},
   "outputs": [
    {
     "data": {
      "image/png": "[encoded data removed]",
      "text/plain": [
       "<Figure size 432x288 with 1 Axes>"
      ]
     },
     "metadata": {
      "needs_background": "light"
     },
     "output_type": "display_data"
    }
   ],
   "source": [
    "plt.scatter(pd.to_numeric(cities_df[\"latitude\"]).astype(float), pd.to_numeric(cities_df[\"humidity\"]).astype(float), facecolors=\"blue\")\n",
    "plt.xlabel(\"latitude\")\n",
    "plt.ylabel(\"humidity\")\n",
    "plt.title(f\"Latitude vs humidity)\")\n",
    "plt.show()"
   ]
  },
  {
   "cell_type": "markdown",
   "metadata": {},
   "source": [
    "## Latitude vs. Cloudiness Plot"
   ]
  },
  {
   "cell_type": "code",
   "execution_count": 130,
   "metadata": {},
   "outputs": [
    {
     "data": {
      "image/png": "[encoded data removed]",
      "text/plain": [
       "<Figure size 432x288 with 1 Axes>"
      ]
     },
     "metadata": {
      "needs_background": "light"
     },
     "output_type": "display_data"
    }
   ],
   "source": [
    "plt.scatter(pd.to_numeric(cities_df[\"latitude\"]).astype(float), pd.to_numeric(cities_df[\"cloudiness\"]).astype(float), color=\"red\")\n",
    "plt.xlabel(\"latitude\")\n",
    "plt.ylabel(\"cloudiness\")\n",
    "plt.title(f\"Latitude vs cloudiness)\")\n",
    "plt.show()"
   ]
  },
  {
   "cell_type": "markdown",
   "metadata": {},
   "source": [
    "## Latitude vs. Wind Speed Plot"
   ]
  },
  {
   "cell_type": "code",
   "execution_count": 131,
   "metadata": {},
   "outputs": [
    {
     "data": {
      "image/png": "[encoded data removed]",
      "text/plain": [
       "<Figure size 432x288 with 1 Axes>"
      ]
     },
     "metadata": {
      "needs_background": "light"
     },
     "output_type": "display_data"
    }
   ],
   "source": [
    "plt.scatter(pd.to_numeric(cities_df[\"latitude\"]).astype(float), pd.to_numeric(cities_df[\"windspeed\"]).astype(float), color=\"red\")\n",
    "plt.xlabel(\"latitude\")\n",
    "plt.ylabel(\"wind speed\")\n",
    "plt.title(f\"Latitude vs wind speed)\")\n",
    "plt.show()"
   ]
  },
  {
   "cell_type": "markdown",
   "metadata": {},
   "source": [
    "## Linear Regression"
   ]
  },
  {
   "cell_type": "code",
   "execution_count": 132,
   "metadata": {},
   "outputs": [
    {
     "data": {
      "text/html": [
       "<div>\n",
       "<style scoped>\n",
       "    .dataframe tbody tr th:only-of-type {\n",
       "        vertical-align: middle;\n",
       "    }\n",
       "\n",
       "    .dataframe tbody tr th {\n",
       "        vertical-align: top;\n",
       "    }\n",
       "\n",
       "    .dataframe thead th {\n",
       "        text-align: right;\n",
       "    }\n",
       "</style>\n",
       "<table border=\"1\" class=\"dataframe\">\n",
       "  <thead>\n",
       "    <tr style=\"text-align: right;\">\n",
       "      <th></th>\n",
       "      <th>city</th>\n",
       "      <th>latitude</th>\n",
       "      <th>longitude</th>\n",
       "      <th>temperature</th>\n",
       "      <th>humidity</th>\n",
       "      <th>cloudiness</th>\n",
       "      <th>windspeed</th>\n",
       "    </tr>\n",
       "  </thead>\n",
       "  <tbody>\n",
       "    <tr>\n",
       "      <th>0</th>\n",
       "      <td>butaritari</td>\n",
       "      <td>3.0707</td>\n",
       "      <td>172.7902</td>\n",
       "      <td>300.84</td>\n",
       "      <td>74</td>\n",
       "      <td>50</td>\n",
       "      <td>9.86</td>\n",
       "    </tr>\n",
       "    <tr>\n",
       "      <th>2</th>\n",
       "      <td>yellowknife</td>\n",
       "      <td>62.456</td>\n",
       "      <td>-114.3525</td>\n",
       "      <td>247.44</td>\n",
       "      <td>81</td>\n",
       "      <td>0</td>\n",
       "      <td>7.2</td>\n",
       "    </tr>\n",
       "    <tr>\n",
       "      <th>3</th>\n",
       "      <td>qaanaaq</td>\n",
       "      <td>77.484</td>\n",
       "      <td>-69.3632</td>\n",
       "      <td>251.43</td>\n",
       "      <td>65</td>\n",
       "      <td>100</td>\n",
       "      <td>1.69</td>\n",
       "    </tr>\n",
       "    <tr>\n",
       "      <th>4</th>\n",
       "      <td>hilo</td>\n",
       "      <td>19.7297</td>\n",
       "      <td>-155.09</td>\n",
       "      <td>296</td>\n",
       "      <td>91</td>\n",
       "      <td>75</td>\n",
       "      <td>0.45</td>\n",
       "    </tr>\n",
       "    <tr>\n",
       "      <th>5</th>\n",
       "      <td>gueret</td>\n",
       "      <td>46.1667</td>\n",
       "      <td>1.8667</td>\n",
       "      <td>282.73</td>\n",
       "      <td>93</td>\n",
       "      <td>100</td>\n",
       "      <td>3.55</td>\n",
       "    </tr>\n",
       "  </tbody>\n",
       "</table>\n",
       "</div>"
      ],
      "text/plain": [
       "          city latitude longitude temperature humidity cloudiness windspeed\n",
       "0   butaritari   3.0707  172.7902      300.84       74         50      9.86\n",
       "2  yellowknife   62.456 -114.3525      247.44       81          0       7.2\n",
       "3      qaanaaq   77.484  -69.3632      251.43       65        100      1.69\n",
       "4         hilo  19.7297   -155.09         296       91         75      0.45\n",
       "5       gueret  46.1667    1.8667      282.73       93        100      3.55"
      ]
     },
     "execution_count": 132,
     "metadata": {},
     "output_type": "execute_result"
    }
   ],
   "source": [
    "#create dataframes for northern (lat > 0) and southern hemisphere (lat < 0)\n",
    "northern_df = cities_df.loc[pd.to_numeric(cities_df[\"latitude\"]).astype(float) > 0, :]\n",
    "northern_df.head()"
   ]
  },
  {
   "cell_type": "code",
   "execution_count": 133,
   "metadata": {},
   "outputs": [
    {
     "data": {
      "text/html": [
       "<div>\n",
       "<style scoped>\n",
       "    .dataframe tbody tr th:only-of-type {\n",
       "        vertical-align: middle;\n",
       "    }\n",
       "\n",
       "    .dataframe tbody tr th {\n",
       "        vertical-align: top;\n",
       "    }\n",
       "\n",
       "    .dataframe thead th {\n",
       "        text-align: right;\n",
       "    }\n",
       "</style>\n",
       "<table border=\"1\" class=\"dataframe\">\n",
       "  <thead>\n",
       "    <tr style=\"text-align: right;\">\n",
       "      <th></th>\n",
       "      <th>city</th>\n",
       "      <th>latitude</th>\n",
       "      <th>longitude</th>\n",
       "      <th>temperature</th>\n",
       "      <th>humidity</th>\n",
       "      <th>cloudiness</th>\n",
       "      <th>windspeed</th>\n",
       "    </tr>\n",
       "  </thead>\n",
       "  <tbody>\n",
       "    <tr>\n",
       "      <th>1</th>\n",
       "      <td>sola</td>\n",
       "      <td>-13.8833</td>\n",
       "      <td>167.55</td>\n",
       "      <td>301.31</td>\n",
       "      <td>69</td>\n",
       "      <td>98</td>\n",
       "      <td>1.16</td>\n",
       "    </tr>\n",
       "    <tr>\n",
       "      <th>7</th>\n",
       "      <td>ushuaia</td>\n",
       "      <td>-54.8</td>\n",
       "      <td>-68.3</td>\n",
       "      <td>282.96</td>\n",
       "      <td>71</td>\n",
       "      <td>20</td>\n",
       "      <td>8.75</td>\n",
       "    </tr>\n",
       "    <tr>\n",
       "      <th>10</th>\n",
       "      <td>punta arenas</td>\n",
       "      <td>-53.15</td>\n",
       "      <td>-70.9167</td>\n",
       "      <td>285.21</td>\n",
       "      <td>76</td>\n",
       "      <td>75</td>\n",
       "      <td>2.57</td>\n",
       "    </tr>\n",
       "    <tr>\n",
       "      <th>11</th>\n",
       "      <td>cape town</td>\n",
       "      <td>-33.9258</td>\n",
       "      <td>18.4232</td>\n",
       "      <td>293.77</td>\n",
       "      <td>69</td>\n",
       "      <td>0</td>\n",
       "      <td>7.2</td>\n",
       "    </tr>\n",
       "    <tr>\n",
       "      <th>12</th>\n",
       "      <td>hobart</td>\n",
       "      <td>-42.8794</td>\n",
       "      <td>147.3294</td>\n",
       "      <td>292.66</td>\n",
       "      <td>53</td>\n",
       "      <td>75</td>\n",
       "      <td>11.32</td>\n",
       "    </tr>\n",
       "  </tbody>\n",
       "</table>\n",
       "</div>"
      ],
      "text/plain": [
       "            city latitude longitude temperature humidity cloudiness windspeed\n",
       "1           sola -13.8833    167.55      301.31       69         98      1.16\n",
       "7        ushuaia    -54.8     -68.3      282.96       71         20      8.75\n",
       "10  punta arenas   -53.15  -70.9167      285.21       76         75      2.57\n",
       "11     cape town -33.9258   18.4232      293.77       69          0       7.2\n",
       "12        hobart -42.8794  147.3294      292.66       53         75     11.32"
      ]
     },
     "execution_count": 133,
     "metadata": {},
     "output_type": "execute_result"
    }
   ],
   "source": [
    "southern_df = cities_df.loc[pd.to_numeric(cities_df[\"latitude\"]).astype(float) < 0, :]\n",
    "southern_df.head()"
   ]
  },
  {
   "cell_type": "markdown",
   "metadata": {},
   "source": [
    "####  Northern Hemisphere - Max Temp vs. Latitude Linear Regression"
   ]
  },
  {
   "cell_type": "code",
   "execution_count": 134,
   "metadata": {},
   "outputs": [
    {
     "name": "stdout",
     "output_type": "stream",
     "text": [
      "The r-squared is: -0.8682657110148366\n"
     ]
    },
    {
     "data": {
      "image/png": "[encoded data removed]",
      "text/plain": [
       "<Figure size 432x288 with 1 Axes>"
      ]
     },
     "metadata": {
      "needs_background": "light"
     },
     "output_type": "display_data"
    }
   ],
   "source": [
    "x_values = pd.to_numeric(northern_df['latitude']).astype(float)\n",
    "y_values = pd.to_numeric(northern_df['temperature']).astype(float)\n",
    "\n",
    "(slope, intercept, rvalue, pvalue, stderr) = linregress(x_values, y_values)\n",
    "regress_values = x_values * slope + intercept\n",
    "line_eq = \"y = \" + str(round(slope,2)) + \"x + \" + str(round(intercept,2))\n",
    "\n",
    "plt.scatter(x_values,y_values)\n",
    "plt.plot(x_values,regress_values,\"r-\")\n",
    "plt.annotate(line_eq,(6,240),fontsize=15,color=\"red\") ##<<- not appearing??\n",
    "plt.xlabel('latitude')\n",
    "plt.ylabel('temp')\n",
    "print(f\"The r-squared is: {rvalue}\")\n",
    "plt.show()"
   ]
  },
  {
   "cell_type": "markdown",
   "metadata": {},
   "source": [
    "####  Southern Hemisphere - Max Temp vs. Latitude Linear Regression"
   ]
  },
  {
   "cell_type": "code",
   "execution_count": 135,
   "metadata": {},
   "outputs": [
    {
     "name": "stdout",
     "output_type": "stream",
     "text": [
      "The r-squared is: 0.39167365168132595\n"
     ]
    },
    {
     "data": {
      "image/png": "[encoded data removed]",
      "text/plain": [
       "<Figure size 432x288 with 1 Axes>"
      ]
     },
     "metadata": {
      "needs_background": "light"
     },
     "output_type": "display_data"
    }
   ],
   "source": [
    "x_values = pd.to_numeric(southern_df['latitude']).astype(float)\n",
    "y_values = pd.to_numeric(southern_df['temperature']).astype(float)\n",
    "\n",
    "(slope, intercept, rvalue, pvalue, stderr) = linregress(x_values, y_values)\n",
    "regress_values = x_values * slope + intercept\n",
    "line_eq = \"y = \" + str(round(slope,2)) + \"x + \" + str(round(intercept,2))\n",
    "\n",
    "plt.scatter(x_values,y_values)\n",
    "plt.plot(x_values,regress_values,\"r-\")\n",
    "plt.annotate(line_eq,(-50,310),fontsize=15,color=\"red\") ##<<- not appearing??\n",
    "plt.xlabel('latitude')\n",
    "plt.ylabel('max temp')\n",
    "print(f\"The r-squared is: {rvalue}\")\n",
    "plt.show()"
   ]
  },
  {
   "cell_type": "markdown",
   "metadata": {},
   "source": [
    "####  Northern Hemisphere - Humidity (%) vs. Latitude Linear Regression"
   ]
  },
  {
   "cell_type": "code",
   "execution_count": 136,
   "metadata": {},
   "outputs": [
    {
     "name": "stdout",
     "output_type": "stream",
     "text": [
      "The r-squared is: 0.3772593207691625\n"
     ]
    },
    {
     "data": {
      "image/png": "[encoded data removed]",
      "text/plain": [
       "<Figure size 432x288 with 1 Axes>"
      ]
     },
     "metadata": {
      "needs_background": "light"
     },
     "output_type": "display_data"
    }
   ],
   "source": [
    "x_values = pd.to_numeric(northern_df['latitude']).astype(float)\n",
    "y_values = pd.to_numeric(northern_df['humidity']).astype(float)\n",
    "\n",
    "(slope, intercept, rvalue, pvalue, stderr) = linregress(x_values, y_values)\n",
    "regress_values = x_values * slope + intercept\n",
    "line_eq = \"y = \" + str(round(slope,2)) + \"x + \" + str(round(intercept,2))\n",
    "\n",
    "plt.scatter(x_values,y_values)\n",
    "plt.plot(x_values,regress_values,\"r-\")\n",
    "plt.annotate(line_eq,(6,10),fontsize=15,color=\"red\")\n",
    "plt.xlabel('latitude')\n",
    "plt.ylabel('humidity')\n",
    "print(f\"The r-squared is: {rvalue}\")\n",
    "plt.show()"
   ]
  },
  {
   "cell_type": "markdown",
   "metadata": {},
   "source": [
    "####  Southern Hemisphere - Humidity (%) vs. Latitude Linear Regression"
   ]
  },
  {
   "cell_type": "code",
   "execution_count": 137,
   "metadata": {},
   "outputs": [
    {
     "name": "stdout",
     "output_type": "stream",
     "text": [
      "The r-squared is: 0.4005044508805679\n"
     ]
    },
    {
     "data": {
      "image/png": "[encoded data removed]",
      "text/plain": [
       "<Figure size 432x288 with 1 Axes>"
      ]
     },
     "metadata": {
      "needs_background": "light"
     },
     "output_type": "display_data"
    }
   ],
   "source": [
    "x_values = pd.to_numeric(southern_df['latitude']).astype(float)\n",
    "y_values = pd.to_numeric(southern_df['humidity']).astype(float)\n",
    "\n",
    "(slope, intercept, rvalue, pvalue, stderr) = linregress(x_values, y_values)\n",
    "regress_values = x_values * slope + intercept\n",
    "line_eq = \"y = \" + str(round(slope,2)) + \"x + \" + str(round(intercept,2))\n",
    "\n",
    "plt.scatter(x_values,y_values)\n",
    "plt.plot(x_values,regress_values,\"r-\")\n",
    "plt.annotate(line_eq,(-50,10),fontsize=15,color=\"red\")\n",
    "plt.xlabel('latitude')\n",
    "plt.ylabel('humidity')\n",
    "print(f\"The r-squared is: {rvalue}\")\n",
    "plt.show()"
   ]
  },
  {
   "cell_type": "markdown",
   "metadata": {},
   "source": [
    "####  Northern Hemisphere - Cloudiness (%) vs. Latitude Linear Regression"
   ]
  },
  {
   "cell_type": "code",
   "execution_count": 138,
   "metadata": {},
   "outputs": [
    {
     "name": "stdout",
     "output_type": "stream",
     "text": [
      "The r-squared is: 0.2645182305232124\n"
     ]
    },
    {
     "data": {
      "image/png": "[encoded data removed]",
      "text/plain": [
       "<Figure size 432x288 with 1 Axes>"
      ]
     },
     "metadata": {
      "needs_background": "light"
     },
     "output_type": "display_data"
    }
   ],
   "source": [
    "x_values = pd.to_numeric(northern_df['latitude']).astype(float)\n",
    "y_values = pd.to_numeric(northern_df['cloudiness']).astype(float)\n",
    "\n",
    "(slope, intercept, rvalue, pvalue, stderr) = linregress(x_values, y_values)\n",
    "regress_values = x_values * slope + intercept\n",
    "line_eq = \"y = \" + str(round(slope,2)) + \"x + \" + str(round(intercept,2))\n",
    "\n",
    "plt.scatter(x_values,y_values)\n",
    "plt.plot(x_values,regress_values,\"r-\")\n",
    "plt.annotate(line_eq,(6,10),fontsize=15,color=\"red\")\n",
    "plt.xlabel('latitude')\n",
    "plt.ylabel('cloudiness')\n",
    "print(f\"The r-squared is: {rvalue}\")\n",
    "plt.show()"
   ]
  },
  {
   "cell_type": "markdown",
   "metadata": {},
   "source": [
    "####  Southern Hemisphere - Cloudiness (%) vs. Latitude Linear Regression"
   ]
  },
  {
   "cell_type": "code",
   "execution_count": 139,
   "metadata": {},
   "outputs": [
    {
     "name": "stdout",
     "output_type": "stream",
     "text": [
      "The r-squared is: 0.5104306653404556\n"
     ]
    },
    {
     "data": {
      "image/png": "[encoded data removed]",
      "text/plain": [
       "<Figure size 432x288 with 1 Axes>"
      ]
     },
     "metadata": {
      "needs_background": "light"
     },
     "output_type": "display_data"
    }
   ],
   "source": [
    "x_values = pd.to_numeric(southern_df['latitude']).astype(float)\n",
    "y_values = pd.to_numeric(southern_df['cloudiness']).astype(float)\n",
    "\n",
    "(slope, intercept, rvalue, pvalue, stderr) = linregress(x_values, y_values)\n",
    "regress_values = x_values * slope + intercept\n",
    "line_eq = \"y = \" + str(round(slope,2)) + \"x + \" + str(round(intercept,2))\n",
    "\n",
    "plt.scatter(x_values,y_values)\n",
    "plt.plot(x_values,regress_values,\"r-\")\n",
    "plt.annotate(line_eq,(-50,100),fontsize=15,color=\"red\")\n",
    "plt.xlabel('latitude')\n",
    "plt.ylabel('cloudiness')\n",
    "print(f\"The r-squared is: {rvalue}\")\n",
    "plt.show()"
   ]
  },
  {
   "cell_type": "markdown",
   "metadata": {},
   "source": [
    "####  Northern Hemisphere - Wind Speed (mph) vs. Latitude Linear Regression"
   ]
  },
  {
   "cell_type": "code",
   "execution_count": 140,
   "metadata": {},
   "outputs": [
    {
     "name": "stdout",
     "output_type": "stream",
     "text": [
      "The r-squared is: 0.09382737074131915\n"
     ]
    },
    {
     "data": {
      "image/png": "[encoded data removed]",
      "text/plain": [
       "<Figure size 432x288 with 1 Axes>"
      ]
     },
     "metadata": {
      "needs_background": "light"
     },
     "output_type": "display_data"
    }
   ],
   "source": [
    "x_values = pd.to_numeric(northern_df['latitude']).astype(float)\n",
    "y_values = pd.to_numeric(northern_df['windspeed']).astype(float)\n",
    "\n",
    "(slope, intercept, rvalue, pvalue, stderr) = linregress(x_values, y_values)\n",
    "regress_values = x_values * slope + intercept\n",
    "line_eq = \"y = \" + str(round(slope,2)) + \"x + \" + str(round(intercept,2))\n",
    "\n",
    "plt.scatter(x_values,y_values)\n",
    "plt.plot(x_values,regress_values,\"r-\")\n",
    "plt.annotate(line_eq,(6,10),fontsize=15,color=\"red\")\n",
    "plt.xlabel('latitude')\n",
    "plt.ylabel('wind speed')\n",
    "print(f\"The r-squared is: {rvalue}\")\n",
    "plt.show()"
   ]
  },
  {
   "cell_type": "markdown",
   "metadata": {},
   "source": [
    "####  Southern Hemisphere - Wind Speed (mph) vs. Latitude Linear Regression"
   ]
  },
  {
   "cell_type": "code",
   "execution_count": 141,
   "metadata": {},
   "outputs": [
    {
     "name": "stdout",
     "output_type": "stream",
     "text": [
      "The r-squared is: -0.4163515621345934\n"
     ]
    },
    {
     "data": {
      "image/png": "[encoded data removed]",
      "text/plain": [
       "<Figure size 432x288 with 1 Axes>"
      ]
     },
     "metadata": {
      "needs_background": "light"
     },
     "output_type": "display_data"
    }
   ],
   "source": [
    "x_values = pd.to_numeric(southern_df['latitude']).astype(float)\n",
    "y_values = pd.to_numeric(southern_df['windspeed']).astype(float)\n",
    "\n",
    "(slope, intercept, rvalue, pvalue, stderr) = linregress(x_values, y_values)\n",
    "regress_values = x_values * slope + intercept\n",
    "line_eq = \"y = \" + str(round(slope,2)) + \"x + \" + str(round(intercept,2))\n",
    "\n",
    "plt.scatter(x_values,y_values)\n",
    "plt.plot(x_values,regress_values,\"r-\")\n",
    "plt.annotate(line_eq,(-50,10),fontsize=15,color=\"red\")\n",
    "plt.xlabel('latitude')\n",
    "plt.ylabel('wind speed')\n",
    "print(f\"The r-squared is: {rvalue}\")\n",
    "plt.show()"
   ]
  },
  {
   "cell_type": "code",
   "execution_count": 142,
   "metadata": {},
   "outputs": [],
   "source": [
    "cities_df.to_csv(\"../output_data/weather.csv\", index=False, header=True)"
   ]
  },
  {
   "cell_type": "code",
   "execution_count": null,
   "metadata": {},
   "outputs": [],
   "source": []
  },
  {
   "cell_type": "code",
   "execution_count": null,
   "metadata": {},
   "outputs": [],
   "source": []
  }
 ],
 "metadata": {
  "anaconda-cloud": {},
  "kernel_info": {
   "name": "python3"
  },
  "kernelspec": {
   "display_name": "Python 3 (ipykernel)",
   "language": "python",
   "name": "python3"
  },
  "language_info": {
   "codemirror_mode": {
    "name": "ipython",
    "version": 3
   },
   "file_extension": ".py",
   "mimetype": "text/x-python",
   "name": "python",
   "nbconvert_exporter": "python",
   "pygments_lexer": "ipython3",
   "version": "3.9.7"
  },
  "latex_envs": {
   "LaTeX_envs_menu_present": true,
   "autoclose": false,
   "autocomplete": true,
   "bibliofile": "biblio.bib",
   "cite_by": "apalike",
   "current_citInitial": 1,
   "eqLabelWithNumbers": true,
   "eqNumInitial": 1,
   "hotkeys": {
    "equation": "Ctrl-E",
    "itemize": "Ctrl-I"
   },
   "labels_anchors": false,
   "latex_user_defs": false,
   "report_style_numbering": false,
   "user_envs_cfg": false
  },
  "nteract": {
   "version": "0.12.3"
  }
 },
 "nbformat": 4,
 "nbformat_minor": 2
}
