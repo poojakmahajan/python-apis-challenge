{
 "cells": [
  {
   "cell_type": "markdown",
   "metadata": {},
   "source": [
    "# WeatherPy\n",
    "----\n",
    "\n",
    "#### Note\n",
    "* Instructions have been included for each segment. You do not have to follow them exactly, but they are included to help you think through the steps."
   ]
  },
  {
   "cell_type": "code",
   "execution_count": 118,
   "metadata": {
    "scrolled": true
   },
   "outputs": [],
   "source": [
    "# Dependencies and Setup\n",
    "import matplotlib.pyplot as plt\n",
    "import pandas as pd\n",
    "import numpy as np\n",
    "import requests\n",
    "import time\n",
    "from scipy.stats import linregress\n",
    "from ratelimiter import RateLimiter\n",
    "import json\n",
    "#from config import api_key\n",
    "\n",
    "# Import API key\n",
    "from api_keys import weather_api_key\n",
    "\n",
    "# Incorporated citipy to determine city based on latitude and longitude\n",
    "from citipy import citipy\n",
    "\n",
    "# Output File (CSV)\n",
    "output_data_file = \"output_data/cities.csv\"\n",
    "\n",
    "# Range of latitudes and longitudes\n",
    "lat_range = (-90, 90)\n",
    "lng_range = (-180, 180)"
   ]
  },
  {
   "cell_type": "markdown",
   "metadata": {},
   "source": [
    "## Generate Cities List"
   ]
  },
  {
   "cell_type": "code",
   "execution_count": 119,
   "metadata": {},
   "outputs": [
    {
     "data": {
      "text/plain": [
       "664"
      ]
     },
     "execution_count": 119,
     "metadata": {},
     "output_type": "execute_result"
    }
   ],
   "source": [
    "# List for holding lat_lngs and cities\n",
    "lat_lngs = []\n",
    "cities = []\n",
    "\n",
    "# Create a set of random lat and lng combinations\n",
    "lats = np.random.uniform(lat_range[0], lat_range[1], size=1500)\n",
    "lngs = np.random.uniform(lng_range[0], lng_range[1], size=1500)\n",
    "lat_lngs = zip(lats, lngs)\n",
    "\n",
    "# Identify nearest city for each lat, lng combination\n",
    "for lat_lng in lat_lngs:\n",
    "    city = citipy.nearest_city(lat_lng[0], lat_lng[1]).city_name\n",
    "    \n",
    "    # If the city is unique, then add it to a our cities list\n",
    "    if city not in cities:\n",
    "        cities.append(city)\n",
    "\n",
    "# Print the city count to confirm sufficient count\n",
    "len(cities)\n",
    "\n",
    "#cities_df = pd.DataFrame({\"city\": cities})\n",
    "#cities_df.head()"
   ]
  },
  {
   "cell_type": "code",
   "execution_count": null,
   "metadata": {},
   "outputs": [],
   "source": []
  },
  {
   "cell_type": "markdown",
   "metadata": {},
   "source": [
    "### Perform API Calls\n",
    "* Perform a weather check on each city using a series of successive API calls.\n",
    "* Include a print log of each city as it'sbeing processed (with the city number and city name).\n",
    "\n",
    "> **HINT:** The OpenWeatherMap API only allows 60 calls per minute under their free plan. Try using `time.sleep(60)` after each set of 50 cities to avoid API errors due to large calls."
   ]
  },
  {
   "cell_type": "code",
   "execution_count": null,
   "metadata": {
    "scrolled": true
   },
   "outputs": [
    {
     "name": "stdout",
     "output_type": "stream",
     "text": [
      "Retrieving Results for Index 0: butaritari\n",
      "Retrieving Results for Index 1: sola\n",
      "Retrieving Results for Index 2: yellowknife\n",
      "Retrieving Results for Index 3: qaanaaq\n",
      "Retrieving Results for Index 4: hilo\n",
      "Retrieving Results for Index 5: gueret\n",
      "Retrieving Results for Index 6: upernavik\n",
      "Retrieving Results for Index 7: ushuaia\n",
      "Retrieving Results for Index 8: tiksi\n",
      "Retrieving Results for Index 9: kudahuvadhoo\n",
      "Retrieving Results for Index 10: punta arenas\n",
      "Retrieving Results for Index 11: cape town\n",
      "Retrieving Results for Index 12: hobart\n",
      "Retrieving Results for Index 13: clyde river\n",
      "Retrieving Results for Index 14: rikitea\n",
      "Retrieving Results for Index 15: livingston\n",
      "Retrieving Results for Index 16: plettenberg bay\n",
      "Retrieving Results for Index 17: pokhara\n",
      "Retrieving Results for Index 18: bluff\n",
      "Retrieving Results for Index 19: tasiilaq\n",
      "Retrieving Results for Index 20: dinard\n",
      "Retrieving Results for Index 21: iqaluit\n",
      "Retrieving Results for Index 22: vaini\n",
      "Retrieving Results for Index 23: albany\n",
      "Retrieving Results for Index 24: puerto ayora\n",
      "Retrieving Results for Index 25: coronado\n",
      "Retrieving Results for Index 26: umzimvubu\n",
      "Missing field.. skipping\n",
      "Retrieving Results for Index 27: lata\n",
      "Retrieving Results for Index 28: baybay\n",
      "Retrieving Results for Index 29: tsihombe\n",
      "Missing field.. skipping\n",
      "Retrieving Results for Index 30: ponta do sol\n",
      "Retrieving Results for Index 31: bathsheba\n",
      "Retrieving Results for Index 32: dzhebariki-khaya\n",
      "Retrieving Results for Index 33: beringovskiy\n",
      "Retrieving Results for Index 34: sao joao da barra\n",
      "Retrieving Results for Index 35: jamestown\n",
      "Retrieving Results for Index 36: alofi\n",
      "Retrieving Results for Index 37: boyolangu\n",
      "Retrieving Results for Index 38: namtsy\n",
      "Retrieving Results for Index 39: sabana de torres\n",
      "Retrieving Results for Index 40: hochstadt\n",
      "Retrieving Results for Index 41: sept-iles\n",
      "Retrieving Results for Index 42: metro\n",
      "Retrieving Results for Index 43: bredasdorp\n",
      "Retrieving Results for Index 44: dzaoudzi\n",
      "Retrieving Results for Index 45: hithadhoo\n",
      "Retrieving Results for Index 46: yalkhoy-mokhk\n",
      "Retrieving Results for Index 47: tilichiki\n",
      "Retrieving Results for Index 48: chicama\n",
      "Retrieving Results for Index 49: nikolskoye\n",
      "Retrieving Results for Index 50: svetlyy\n",
      "Retrieving Results for Index 51: qasigiannguit\n",
      "Retrieving Results for Index 52: barentsburg\n",
      "Missing field.. skipping\n",
      "Retrieving Results for Index 53: kapaa\n",
      "Retrieving Results for Index 54: atuona\n",
      "Retrieving Results for Index 55: amderma\n",
      "Missing field.. skipping\n",
      "Retrieving Results for Index 56: skalistyy\n",
      "Missing field.. skipping\n",
      "Retrieving Results for Index 57: chuy\n",
      "Retrieving Results for Index 58: cayenne\n",
      "Retrieving Results for Index 59: bethel\n",
      "Retrieving Results for Index 60: saint anthony\n",
      "Retrieving Results for Index 61: port alfred\n",
      "Retrieving Results for Index 62: illoqqortoormiut\n",
      "Missing field.. skipping\n",
      "Retrieving Results for Index 63: jinchang\n",
      "Retrieving Results for Index 64: padang\n",
      "Retrieving Results for Index 65: salalah\n",
      "Retrieving Results for Index 66: hermanus\n",
      "Retrieving Results for Index 67: umba\n",
      "Retrieving Results for Index 68: oktyabrskoye\n",
      "Retrieving Results for Index 69: georgetown\n",
      "Retrieving Results for Index 70: isangel\n",
      "Retrieving Results for Index 71: bani\n",
      "Retrieving Results for Index 72: grand river south east\n",
      "Missing field.. skipping\n",
      "Retrieving Results for Index 73: vaitape\n",
      "Retrieving Results for Index 74: dekoa\n",
      "Missing field.. skipping\n",
      "Retrieving Results for Index 75: tuatapere\n",
      "Retrieving Results for Index 76: pueblo\n",
      "Retrieving Results for Index 77: saint-philippe\n",
      "Retrieving Results for Index 78: taolanaro\n",
      "Missing field.. skipping\n",
      "Retrieving Results for Index 79: sibiti\n",
      "Retrieving Results for Index 80: houma\n",
      "Retrieving Results for Index 81: mataura\n",
      "Retrieving Results for Index 82: faanui\n",
      "Retrieving Results for Index 83: pontianak\n",
      "Retrieving Results for Index 84: belushya guba\n",
      "Missing field.. skipping\n",
      "Retrieving Results for Index 85: srednekolymsk\n",
      "Retrieving Results for Index 86: bodden town\n",
      "Retrieving Results for Index 87: iracoubo\n",
      "Retrieving Results for Index 88: killybegs\n",
      "Retrieving Results for Index 89: torbay\n",
      "Retrieving Results for Index 90: moree\n",
      "Retrieving Results for Index 91: agadez\n",
      "Retrieving Results for Index 92: touros\n",
      "Retrieving Results for Index 93: olinda\n",
      "Retrieving Results for Index 94: antalaha\n",
      "Retrieving Results for Index 95: ostrovnoy\n",
      "Retrieving Results for Index 96: pasighat\n",
      "Retrieving Results for Index 97: busselton\n",
      "Retrieving Results for Index 98: coihaique\n",
      "Retrieving Results for Index 99: namibe\n",
      "Retrieving Results for Index 100: avarua\n",
      "Retrieving Results for Index 101: yerbogachen\n",
      "Retrieving Results for Index 102: broome\n",
      "Retrieving Results for Index 103: lincoln\n",
      "Retrieving Results for Index 104: new norfolk\n",
      "Retrieving Results for Index 105: kungurtug\n",
      "Retrieving Results for Index 106: glarus\n",
      "Retrieving Results for Index 107: pevek\n",
      "Retrieving Results for Index 108: beira\n",
      "Retrieving Results for Index 109: east london\n",
      "Retrieving Results for Index 110: sitka\n",
      "Retrieving Results for Index 111: shingu\n",
      "Retrieving Results for Index 112: ola\n",
      "Retrieving Results for Index 113: road town\n",
      "Retrieving Results for Index 114: samarai\n",
      "Retrieving Results for Index 115: seoul\n",
      "Retrieving Results for Index 116: barrow\n",
      "Retrieving Results for Index 117: yebaishou\n",
      "Retrieving Results for Index 118: saleaula\n",
      "Missing field.. skipping\n",
      "Retrieving Results for Index 119: kirakira\n",
      "Retrieving Results for Index 120: port blair\n",
      "Retrieving Results for Index 121: tadine\n",
      "Retrieving Results for Index 122: grindavik\n",
      "Retrieving Results for Index 123: kahului\n",
      "Retrieving Results for Index 124: kuchurhan\n",
      "Retrieving Results for Index 125: mount gambier\n",
      "Retrieving Results for Index 126: mareeba\n",
      "Retrieving Results for Index 127: nizhneyansk\n",
      "Missing field.. skipping\n",
      "Retrieving Results for Index 128: vanavara\n",
      "Retrieving Results for Index 129: izumo\n",
      "Retrieving Results for Index 130: colac\n",
      "Retrieving Results for Index 131: guerrero negro\n",
      "Retrieving Results for Index 132: buala\n",
      "Retrieving Results for Index 133: tecoanapa\n",
      "Retrieving Results for Index 134: katsuura\n",
      "Retrieving Results for Index 135: castro\n",
      "Retrieving Results for Index 136: iquique\n",
      "Retrieving Results for Index 137: buqayq\n",
      "Missing field.. skipping\n",
      "Retrieving Results for Index 138: ilulissat\n",
      "Retrieving Results for Index 139: deputatskiy\n",
      "Retrieving Results for Index 140: nome\n",
      "Retrieving Results for Index 141: cienfuegos\n",
      "Retrieving Results for Index 142: carnarvon\n",
      "Retrieving Results for Index 143: broken hill\n",
      "Retrieving Results for Index 144: sinnamary\n",
      "Retrieving Results for Index 145: phrai bung\n",
      "Missing field.. skipping\n",
      "Retrieving Results for Index 146: esperance\n",
      "Retrieving Results for Index 147: liverpool\n",
      "Retrieving Results for Index 148: khatanga\n",
      "Retrieving Results for Index 149: longyearbyen\n",
      "Retrieving Results for Index 150: norrtalje\n",
      "Retrieving Results for Index 151: wanning\n",
      "Retrieving Results for Index 152: kasongo-lunda\n",
      "Retrieving Results for Index 153: saint-pierre\n",
      "Retrieving Results for Index 154: sentyabrskiy\n",
      "Missing field.. skipping\n",
      "Retrieving Results for Index 155: saint george\n",
      "Retrieving Results for Index 156: visby\n",
      "Retrieving Results for Index 157: truckee\n",
      "Retrieving Results for Index 158: port elizabeth\n",
      "Retrieving Results for Index 159: dzhusaly\n",
      "Missing field.. skipping\n",
      "Retrieving Results for Index 160: gbadolite\n",
      "Retrieving Results for Index 161: kemri\n",
      "Retrieving Results for Index 162: reshetylivka\n",
      "Retrieving Results for Index 163: victoria\n",
      "Retrieving Results for Index 164: cherskiy\n",
      "Retrieving Results for Index 165: ormond beach\n",
      "Retrieving Results for Index 166: brownsville\n",
      "Retrieving Results for Index 167: thompson\n",
      "Retrieving Results for Index 168: aleksin\n",
      "Retrieving Results for Index 169: seymchan\n",
      "Retrieving Results for Index 170: arraial do cabo\n",
      "Retrieving Results for Index 171: samusu\n",
      "Missing field.. skipping\n",
      "Retrieving Results for Index 172: qeshm\n",
      "Retrieving Results for Index 173: annau\n",
      "Retrieving Results for Index 174: macia\n",
      "Retrieving Results for Index 175: fairbanks\n",
      "Retrieving Results for Index 176: hami\n",
      "Retrieving Results for Index 177: imeni zhelyabova\n",
      "Retrieving Results for Index 178: sorong\n",
      "Retrieving Results for Index 179: caravelas\n",
      "Retrieving Results for Index 180: pacific grove\n",
      "Retrieving Results for Index 181: tessalit\n"
     ]
    },
    {
     "name": "stdout",
     "output_type": "stream",
     "text": [
      "Retrieving Results for Index 182: moron\n",
      "Retrieving Results for Index 183: northam\n",
      "Retrieving Results for Index 184: kuryk\n",
      "Retrieving Results for Index 185: college\n",
      "Retrieving Results for Index 186: ust-kuyga\n",
      "Retrieving Results for Index 187: kloulklubed\n",
      "Retrieving Results for Index 188: dikson\n",
      "Retrieving Results for Index 189: itoman\n",
      "Retrieving Results for Index 190: bitam\n",
      "Retrieving Results for Index 191: iralaya\n",
      "Retrieving Results for Index 192: mehamn\n",
      "Retrieving Results for Index 193: ribeira grande\n",
      "Retrieving Results for Index 194: maldonado\n",
      "Retrieving Results for Index 195: waipawa\n",
      "Retrieving Results for Index 196: kavieng\n",
      "Retrieving Results for Index 197: fernley\n",
      "Retrieving Results for Index 198: nanortalik\n",
      "Retrieving Results for Index 199: cidreira\n",
      "Retrieving Results for Index 200: kodiak\n",
      "Retrieving Results for Index 201: rudbar\n",
      "Retrieving Results for Index 202: cuamba\n",
      "Retrieving Results for Index 203: roma\n",
      "Retrieving Results for Index 204: mar del plata\n",
      "Retrieving Results for Index 205: san quintin\n",
      "Retrieving Results for Index 206: wright\n",
      "Retrieving Results for Index 207: vancouver\n",
      "Retrieving Results for Index 208: taoudenni\n",
      "Retrieving Results for Index 209: kaitangata\n",
      "Retrieving Results for Index 210: vanimo\n",
      "Retrieving Results for Index 211: ploemeur\n",
      "Retrieving Results for Index 212: panzhihua\n",
      "Retrieving Results for Index 213: gat\n",
      "Retrieving Results for Index 214: venice\n",
      "Retrieving Results for Index 215: honiara\n",
      "Retrieving Results for Index 216: tottori\n",
      "Retrieving Results for Index 217: chilliwack\n",
      "Retrieving Results for Index 218: saint-georges\n",
      "Retrieving Results for Index 219: meleuz\n",
      "Retrieving Results for Index 220: saskylakh\n",
      "Retrieving Results for Index 221: tura\n",
      "Retrieving Results for Index 222: malumfashi\n",
      "Retrieving Results for Index 223: turtkul\n",
      "Missing field.. skipping\n",
      "Retrieving Results for Index 224: rapid valley\n",
      "Retrieving Results for Index 225: arlit\n",
      "Retrieving Results for Index 226: impfondo\n",
      "Retrieving Results for Index 227: coquimbo\n",
      "Retrieving Results for Index 228: derzhavinsk\n",
      "Retrieving Results for Index 229: haifa\n",
      "Retrieving Results for Index 230: sao filipe\n",
      "Retrieving Results for Index 231: taunggyi\n",
      "Retrieving Results for Index 232: beloha\n",
      "Retrieving Results for Index 233: mentok\n",
      "Missing field.. skipping\n",
      "Retrieving Results for Index 234: inhambane\n",
      "Retrieving Results for Index 235: mys shmidta\n",
      "Missing field.. skipping\n",
      "Retrieving Results for Index 236: sabang\n",
      "Retrieving Results for Index 237: norman wells\n",
      "Retrieving Results for Index 238: yamada\n",
      "Retrieving Results for Index 239: petropavlovsk-kamchatskiy\n",
      "Retrieving Results for Index 240: nyurba\n",
      "Retrieving Results for Index 241: barstow\n",
      "Retrieving Results for Index 242: tuktoyaktuk\n",
      "Retrieving Results for Index 243: biak\n",
      "Retrieving Results for Index 244: narsaq\n",
      "Retrieving Results for Index 245: iskateley\n",
      "Retrieving Results for Index 246: acapulco\n",
      "Retrieving Results for Index 247: los llanos de aridane\n",
      "Retrieving Results for Index 248: bambous virieux\n",
      "Retrieving Results for Index 249: rocha\n",
      "Retrieving Results for Index 250: manokwari\n",
      "Retrieving Results for Index 251: mahebourg\n",
      "Retrieving Results for Index 252: hay river\n",
      "Retrieving Results for Index 253: luderitz\n",
      "Retrieving Results for Index 254: sukhumi\n",
      "Retrieving Results for Index 255: udachnyy\n",
      "Retrieving Results for Index 256: banepa\n",
      "Retrieving Results for Index 257: canico\n",
      "Retrieving Results for Index 258: umm lajj\n",
      "Retrieving Results for Index 259: uxbridge\n",
      "Retrieving Results for Index 260: claveria\n",
      "Retrieving Results for Index 261: denpasar\n",
      "Retrieving Results for Index 262: mitu\n",
      "Retrieving Results for Index 263: provideniya\n",
      "Retrieving Results for Index 264: airai\n",
      "Retrieving Results for Index 265: kuching\n",
      "Retrieving Results for Index 266: north myrtle beach\n",
      "Retrieving Results for Index 267: raymondville\n",
      "Retrieving Results for Index 268: wum\n",
      "Retrieving Results for Index 269: kensington\n",
      "Retrieving Results for Index 270: port lincoln\n",
      "Retrieving Results for Index 271: the valley\n",
      "Retrieving Results for Index 272: george town\n",
      "Retrieving Results for Index 273: hollola\n",
      "Retrieving Results for Index 274: egvekinot\n",
      "Retrieving Results for Index 275: huron\n",
      "Retrieving Results for Index 276: emba\n",
      "Retrieving Results for Index 277: ambon\n",
      "Retrieving Results for Index 278: codrington\n",
      "Retrieving Results for Index 279: pimentel\n",
      "Retrieving Results for Index 280: lolua\n",
      "Missing field.. skipping\n",
      "Retrieving Results for Index 281: conceicao da barra\n",
      "Retrieving Results for Index 282: upington\n",
      "Retrieving Results for Index 283: coahuayana\n",
      "Retrieving Results for Index 284: marcona\n",
      "Missing field.. skipping\n",
      "Retrieving Results for Index 285: miram shah\n",
      "Retrieving Results for Index 286: tazovskiy\n",
      "Retrieving Results for Index 287: sumkino\n",
      "Retrieving Results for Index 288: winslow\n",
      "Retrieving Results for Index 289: bray\n",
      "Retrieving Results for Index 290: sinkat\n",
      "Missing field.. skipping\n",
      "Retrieving Results for Index 291: henties bay\n",
      "Retrieving Results for Index 292: daru\n",
      "Retrieving Results for Index 293: gazli\n",
      "Retrieving Results for Index 294: ancud\n",
      "Retrieving Results for Index 295: glens falls\n",
      "Retrieving Results for Index 296: dunedin\n",
      "Retrieving Results for Index 297: bonthe\n",
      "Retrieving Results for Index 298: fort nelson\n",
      "Retrieving Results for Index 299: inongo\n",
      "Retrieving Results for Index 300: santa maria\n",
      "Retrieving Results for Index 301: hasaki\n",
      "Retrieving Results for Index 302: vila velha\n",
      "Retrieving Results for Index 303: chapleau\n",
      "Retrieving Results for Index 304: pahalgam\n",
      "Retrieving Results for Index 305: sinop\n",
      "Retrieving Results for Index 306: chokurdakh\n",
      "Retrieving Results for Index 307: kysyl-syr\n",
      "Retrieving Results for Index 308: palu\n",
      "Retrieving Results for Index 309: oistins\n",
      "Retrieving Results for Index 310: bull savanna\n",
      "Retrieving Results for Index 311: souillac\n",
      "Retrieving Results for Index 312: mackay\n",
      "Retrieving Results for Index 313: yuzhno-yeniseyskiy\n",
      "Missing field.. skipping\n",
      "Retrieving Results for Index 314: akdepe\n",
      "Retrieving Results for Index 315: puerto colombia\n",
      "Retrieving Results for Index 316: neiafu\n",
      "Retrieving Results for Index 317: sorvag\n",
      "Missing field.. skipping\n",
      "Retrieving Results for Index 318: port-gentil\n",
      "Retrieving Results for Index 319: popondetta\n",
      "Retrieving Results for Index 320: mgandu\n",
      "Retrieving Results for Index 321: bahia honda\n",
      "Retrieving Results for Index 322: hannibal\n",
      "Retrieving Results for Index 323: tateyama\n",
      "Retrieving Results for Index 324: nanakuli\n",
      "Retrieving Results for Index 325: albanel\n",
      "Retrieving Results for Index 326: wukari\n",
      "Retrieving Results for Index 327: shenjiamen\n",
      "Retrieving Results for Index 328: leningradskiy\n",
      "Retrieving Results for Index 329: tumannyy\n",
      "Missing field.. skipping\n",
      "Retrieving Results for Index 330: shimoda\n",
      "Retrieving Results for Index 331: whyalla\n",
      "Retrieving Results for Index 332: formoso do araguaia\n",
      "Missing field.. skipping\n",
      "Retrieving Results for Index 333: alta floresta\n",
      "Retrieving Results for Index 334: surt\n",
      "Retrieving Results for Index 335: vaitupu\n",
      "Missing field.. skipping\n",
      "Retrieving Results for Index 336: korla\n",
      "Retrieving Results for Index 337: te anau\n",
      "Retrieving Results for Index 338: lorengau\n",
      "Retrieving Results for Index 339: paita\n",
      "Retrieving Results for Index 340: rio grande\n",
      "Retrieving Results for Index 341: atar\n",
      "Retrieving Results for Index 342: maxixe\n",
      "Retrieving Results for Index 343: pierre\n",
      "Retrieving Results for Index 344: suluq\n",
      "Retrieving Results for Index 345: vila do maio\n",
      "Retrieving Results for Index 346: dudinka\n",
      "Retrieving Results for Index 347: sassandra\n",
      "Retrieving Results for Index 348: cockburn town\n",
      "Retrieving Results for Index 349: shubarshi\n",
      "Retrieving Results for Index 350: la ciotat\n",
      "Retrieving Results for Index 351: nizip\n",
      "Retrieving Results for Index 352: vila franca do campo\n",
      "Retrieving Results for Index 353: acheng\n",
      "Retrieving Results for Index 354: cabo san lucas\n",
      "Retrieving Results for Index 355: halalo\n",
      "Missing field.. skipping\n",
      "Retrieving Results for Index 356: zasheyek\n",
      "Retrieving Results for Index 357: beidao\n",
      "Retrieving Results for Index 358: kawalu\n",
      "Retrieving Results for Index 359: yanam\n",
      "Retrieving Results for Index 360: japura\n",
      "Retrieving Results for Index 361: santa isabel do rio negro\n",
      "Retrieving Results for Index 362: havelock\n",
      "Retrieving Results for Index 363: bathurst\n",
      "Retrieving Results for Index 364: xinzhi\n"
     ]
    },
    {
     "name": "stdout",
     "output_type": "stream",
     "text": [
      "Retrieving Results for Index 365: melendugno\n",
      "Retrieving Results for Index 366: orlik\n",
      "Retrieving Results for Index 367: vallenar\n",
      "Retrieving Results for Index 368: maumere\n",
      "Retrieving Results for Index 369: urumqi\n",
      "Retrieving Results for Index 370: sambava\n",
      "Retrieving Results for Index 371: kortkeros\n",
      "Retrieving Results for Index 372: tianpeng\n",
      "Retrieving Results for Index 373: slave lake\n",
      "Retrieving Results for Index 374: nassau\n",
      "Retrieving Results for Index 375: meulaboh\n",
      "Retrieving Results for Index 376: kirksville\n",
      "Retrieving Results for Index 377: bumbuna\n",
      "Retrieving Results for Index 378: nola\n",
      "Retrieving Results for Index 379: luan\n",
      "Retrieving Results for Index 380: mahibadhoo\n",
      "Retrieving Results for Index 381: hambantota\n",
      "Retrieving Results for Index 382: byron bay\n",
      "Retrieving Results for Index 383: murashi\n",
      "Retrieving Results for Index 384: pirogovo\n",
      "Retrieving Results for Index 385: mikhaylovsk\n",
      "Retrieving Results for Index 386: saldanha\n",
      "Retrieving Results for Index 387: songjianghe\n",
      "Retrieving Results for Index 388: carutapera\n",
      "Retrieving Results for Index 389: kitgum\n",
      "Retrieving Results for Index 390: palmer\n",
      "Retrieving Results for Index 391: mrirt\n",
      "Missing field.. skipping\n",
      "Retrieving Results for Index 392: taltal\n",
      "Retrieving Results for Index 393: gravdal\n",
      "Retrieving Results for Index 394: kumano\n",
      "Retrieving Results for Index 395: galesong\n",
      "Retrieving Results for Index 396: kidal\n",
      "Retrieving Results for Index 397: buraydah\n",
      "Retrieving Results for Index 398: akyab\n",
      "Retrieving Results for Index 399: nokaneng\n",
      "Retrieving Results for Index 400: muzhi\n",
      "Retrieving Results for Index 401: santa marta de tormes\n",
      "Retrieving Results for Index 402: duz\n",
      "Missing field.. skipping\n",
      "Retrieving Results for Index 403: pisco\n",
      "Retrieving Results for Index 404: comodoro rivadavia\n",
      "Retrieving Results for Index 405: vestmannaeyjar\n",
      "Retrieving Results for Index 406: somerset\n",
      "Retrieving Results for Index 407: hermosillo\n",
      "Retrieving Results for Index 408: susanville\n",
      "Retrieving Results for Index 409: oxapampa\n",
      "Retrieving Results for Index 410: bambanglipuro\n",
      "Retrieving Results for Index 411: otuzco\n",
      "Retrieving Results for Index 412: gebre guracha\n",
      "Retrieving Results for Index 413: ugoofaaru\n",
      "Retrieving Results for Index 414: lakatoro\n",
      "Retrieving Results for Index 415: yumen\n",
      "Retrieving Results for Index 416: chernolesskoye\n",
      "Retrieving Results for Index 417: bilibino\n",
      "Retrieving Results for Index 418: avenal\n",
      "Retrieving Results for Index 419: baykit\n",
      "Retrieving Results for Index 420: pangnirtung\n",
      "Retrieving Results for Index 421: talakan\n",
      "Retrieving Results for Index 422: callaguip\n",
      "Retrieving Results for Index 423: asau\n",
      "Retrieving Results for Index 424: palabuhanratu\n",
      "Missing field.. skipping\n",
      "Retrieving Results for Index 425: aktash\n",
      "Retrieving Results for Index 426: sault sainte marie\n",
      "Retrieving Results for Index 427: shelburne\n",
      "Retrieving Results for Index 428: aykhal\n",
      "Retrieving Results for Index 429: zhob\n",
      "Retrieving Results for Index 430: geraldton\n",
      "Retrieving Results for Index 431: katobu\n",
      "Retrieving Results for Index 432: flin flon\n",
      "Retrieving Results for Index 433: whitianga\n",
      "Retrieving Results for Index 434: bengkulu\n",
      "Retrieving Results for Index 435: huarmey\n",
      "Retrieving Results for Index 436: zhigansk\n",
      "Retrieving Results for Index 437: morant bay\n",
      "Retrieving Results for Index 438: attawapiskat\n",
      "Missing field.. skipping\n",
      "Retrieving Results for Index 439: nhulunbuy\n",
      "Retrieving Results for Index 440: uyuni\n",
      "Retrieving Results for Index 441: kavaratti\n",
      "Retrieving Results for Index 442: tuytepa\n",
      "Retrieving Results for Index 443: poum\n",
      "Retrieving Results for Index 444: yaan\n",
      "Retrieving Results for Index 445: fenyi\n",
      "Retrieving Results for Index 446: barinas\n",
      "Retrieving Results for Index 447: houston\n",
      "Retrieving Results for Index 448: san antonio\n",
      "Retrieving Results for Index 449: brae\n",
      "Retrieving Results for Index 450: mount pleasant\n",
      "Retrieving Results for Index 451: aleksinac\n",
      "Retrieving Results for Index 452: togur\n",
      "Retrieving Results for Index 453: jujuy\n",
      "Missing field.. skipping\n",
      "Retrieving Results for Index 454: thurso\n",
      "Retrieving Results for Index 455: kapoeta\n",
      "Retrieving Results for Index 456: niquero\n",
      "Retrieving Results for Index 457: cheuskiny\n",
      "Missing field.. skipping\n",
      "Retrieving Results for Index 458: clonmel\n",
      "Retrieving Results for Index 459: chenghai\n",
      "Retrieving Results for Index 460: pecos\n",
      "Retrieving Results for Index 461: bacolod\n",
      "Retrieving Results for Index 462: donja dubica\n",
      "Retrieving Results for Index 463: lichinga\n",
      "Retrieving Results for Index 464: adre\n",
      "Retrieving Results for Index 465: rae bareli\n",
      "Retrieving Results for Index 466: salaga\n",
      "Retrieving Results for Index 467: aklavik\n",
      "Retrieving Results for Index 468: hobyo\n",
      "Retrieving Results for Index 469: yulara\n",
      "Retrieving Results for Index 470: aitape\n",
      "Retrieving Results for Index 471: mergui\n",
      "Missing field.. skipping\n",
      "Retrieving Results for Index 472: natal\n",
      "Retrieving Results for Index 473: sanary-sur-mer\n",
      "Retrieving Results for Index 474: sesheke\n",
      "Retrieving Results for Index 475: fare\n",
      "Retrieving Results for Index 476: horta\n",
      "Retrieving Results for Index 477: las choapas\n",
      "Retrieving Results for Index 478: russell\n",
      "Retrieving Results for Index 479: naze\n",
      "Retrieving Results for Index 480: ust-kamchatsk\n",
      "Missing field.. skipping\n",
      "Retrieving Results for Index 481: lebu\n",
      "Retrieving Results for Index 482: zhuhai\n",
      "Retrieving Results for Index 483: maravilha\n",
      "Retrieving Results for Index 484: anadyr\n",
      "Retrieving Results for Index 485: lagos\n",
      "Retrieving Results for Index 486: santa elena\n",
      "Retrieving Results for Index 487: severo-kurilsk\n",
      "Retrieving Results for Index 488: zhezkazgan\n",
      "Retrieving Results for Index 489: ijaki\n",
      "Missing field.. skipping\n",
      "Retrieving Results for Index 490: longlac\n",
      "Missing field.. skipping\n",
      "Retrieving Results for Index 491: fortuna\n",
      "Retrieving Results for Index 492: kurilsk\n",
      "Retrieving Results for Index 493: plast\n",
      "Retrieving Results for Index 494: westport\n",
      "Retrieving Results for Index 495: ellensburg\n",
      "Retrieving Results for Index 496: barawe\n",
      "Missing field.. skipping\n",
      "Retrieving Results for Index 497: black river\n",
      "Retrieving Results for Index 498: outjo\n",
      "Retrieving Results for Index 499: verkhnyaya inta\n",
      "Retrieving Results for Index 500: zorgo\n",
      "Retrieving Results for Index 501: whitehorse\n",
      "Retrieving Results for Index 502: tombouctou\n",
      "Retrieving Results for Index 503: lethbridge\n",
      "Retrieving Results for Index 504: melur\n",
      "Retrieving Results for Index 505: lakes entrance\n",
      "Retrieving Results for Index 506: unicov\n",
      "Retrieving Results for Index 507: tambopata\n",
      "Retrieving Results for Index 508: komsomolskiy\n",
      "Retrieving Results for Index 509: kinanah\n",
      "Missing field.. skipping\n",
      "Retrieving Results for Index 510: malakal\n",
      "Retrieving Results for Index 511: grand gaube\n",
      "Retrieving Results for Index 512: abalak\n",
      "Retrieving Results for Index 513: oslo\n",
      "Retrieving Results for Index 514: homer\n",
      "Retrieving Results for Index 515: shimanovsk\n",
      "Retrieving Results for Index 516: vrangel\n",
      "Retrieving Results for Index 517: bollnas\n",
      "Retrieving Results for Index 518: mount isa\n",
      "Retrieving Results for Index 519: wegorzewo\n",
      "Retrieving Results for Index 520: nobres\n",
      "Retrieving Results for Index 521: lompoc\n",
      "Retrieving Results for Index 522: maputo\n",
      "Retrieving Results for Index 523: santarem\n",
      "Retrieving Results for Index 524: maniitsoq\n",
      "Retrieving Results for Index 525: kruisfontein\n",
      "Retrieving Results for Index 526: vao\n",
      "Retrieving Results for Index 527: nemuro\n",
      "Retrieving Results for Index 528: pucallpa\n",
      "Retrieving Results for Index 529: pirai do sul\n",
      "Retrieving Results for Index 530: thinadhoo\n",
      "Retrieving Results for Index 531: araouane\n",
      "Retrieving Results for Index 532: saint-joseph\n",
      "Retrieving Results for Index 533: talnakh\n",
      "Retrieving Results for Index 534: tir pol\n",
      "Missing field.. skipping\n",
      "Retrieving Results for Index 535: le port\n",
      "Retrieving Results for Index 536: skibbereen\n",
      "Retrieving Results for Index 537: paoua\n",
      "Retrieving Results for Index 538: desert hot springs\n"
     ]
    }
   ],
   "source": [
    "#Define url path for the api\n",
    "url = \"http://api.openweathermap.org/data/2.5/weather?\"\n",
    "\n",
    "\n",
    "#rate_limiter = RateLimiter(max_calls=50, period=60)\n",
    "\n",
    "#print(query_url)\n",
    "#response = requests.get(query_url)\n",
    "#response_json = response.json()\n",
    "#print(json.dumps(response_json, indent=4, sort_keys=True))\n",
    "\n",
    "#The first requirement is to create a series of scatter plots to showcase the following relationships:\n",
    "#Temperature (F) vs. Latitude\n",
    "#Humidity (%) vs. Latitude\n",
    "#Cloudiness (%) vs. Latitude\n",
    "#Wind Speed (mph) vs. Latitude\n",
    "\n",
    "cities_df = pd.DataFrame({\"city\": cities})\n",
    "\n",
    "#set up additional columns to hold information\n",
    "cities_df['latitude'] = \"\"\n",
    "cities_df['longitude'] = \"\"\n",
    "cities_df[\"temperature\"] = \"\"\n",
    "cities_df['humidity'] = \"\"\n",
    "cities_df['cloudiness'] = \"\"\n",
    "cities_df['windspeed'] = \"\"\n",
    "\n",
    "#cities_df.head()\n",
    "\n",
    "#loop through the list of cities and perform a request for data on each\n",
    "#iterrows to iterate through pandas dataframe\n",
    "for index, row in cities_df.iterrows():\n",
    "    \n",
    "    #get city from df\n",
    "    city = row[\"city\"]\n",
    "    \n",
    "    #assemble url and make API request\n",
    "    print(f\"Retrieving Results for Index {index}: {city}\")\n",
    "    query_url = url + \"appid=\" + weather_api_key + \"&q=\" + city\n",
    "    response = requests.get(query_url).json()\n",
    "    #print(query_url)\n",
    "    #extract results\n",
    "    #results = response['results']\n",
    "    \n",
    "    try:\n",
    "        cities_df.loc[index, 'latitude'] = response['coord']['lat']\n",
    "        cities_df.loc[index, 'longitude'] = response['coord']['lon']\n",
    "        cities_df.loc[index, 'temperature'] = response['main']['temp_max']\n",
    "        cities_df.loc[index, 'humidity'] = response['main']['humidity']\n",
    "        cities_df.loc[index, 'cloudiness'] = response['clouds']['all']\n",
    "        cities_df.loc[index, 'windspeed'] = response['wind']['speed']\n",
    "    except:\n",
    "        print(\"Missing field.. skipping\")\n",
    "        \n",
    "print(\"---------------\")\n"
   ]
  },
  {
   "cell_type": "code",
   "execution_count": null,
   "metadata": {},
   "outputs": [],
   "source": [
    "#{\"coord\":{\"lon\":169.8464,\"lat\":-46.2817},\"weather\":[{\"id\":801,\"main\":\"Clouds\",\"description\":\"few clouds\",\"icon\":\"02d\"}],\"base\":\"stations\",\"main\":{\"temp\":293.11,\"feels_like\":292.86,\"temp_min\":293.11,\"temp_max\":293.11,\"pressure\":1006,\"humidity\":65,\"sea_level\":1006,\"grnd_level\":1005},\"visibility\":10000,\"wind\":{\"speed\":2.92,\"deg\":71,\"gust\":5.41},\"clouds\":{\"all\":24},\"dt\":1645153763,\"sys\":{\"type\":2,\"id\":2000217,\"country\":\"NZ\",\"sunrise\":1645120749,\"sunset\":1645170619},\"timezone\":46800,\"id\":2208248,\"name\":\"Kaitangata\",\"cod\":200}"
   ]
  },
  {
   "cell_type": "markdown",
   "metadata": {},
   "source": [
    "### Convert Raw Data to DataFrame\n",
    "* Export the city data into a .csv.\n",
    "* Display the DataFrame"
   ]
  },
  {
   "cell_type": "code",
   "execution_count": 74,
   "metadata": {},
   "outputs": [
    {
     "name": "stdout",
     "output_type": "stream",
     "text": [
      "<class 'pandas.core.frame.DataFrame'>\n",
      "RangeIndex: 625 entries, 0 to 624\n",
      "Data columns (total 6 columns):\n",
      " #   Column       Non-Null Count  Dtype \n",
      "---  ------       --------------  ----- \n",
      " 0   city         625 non-null    object\n",
      " 1   latitude     625 non-null    object\n",
      " 2   temperature  625 non-null    object\n",
      " 3   humidity     625 non-null    object\n",
      " 4   cloudiness   625 non-null    object\n",
      " 5   windspeed    625 non-null    object\n",
      "dtypes: object(6)\n",
      "memory usage: 29.4+ KB\n"
     ]
    }
   ],
   "source": [
    "cities_df.info()"
   ]
  },
  {
   "cell_type": "code",
   "execution_count": 68,
   "metadata": {},
   "outputs": [
    {
     "data": {
      "text/plain": [
       "',city,latitude,temperature,humidity,cloudiness,windspeed\\r\\n0,ribeira grande,38.5167,283.72,65,98,11.12\\r\\n1,kaitangata,-46.2817,293.11,65,24,2.92\\r\\n2,taolanaro,,,,,\\r\\n3,jamestown,42.097,273.72,72,100,4.12\\r\\n4,mecca,21.4267,293.36,73,0,0.36\\r\\n5,atuona,-9.8,299.18,74,9,8.52\\r\\n6,touros,-5.1989,299.65,77,12,3.14\\r\\n7,kyshtovka,56.555,263.35,93,100,4.47\\r\\n8,hermanus,-34.4187,291.43,81,6,6.52\\r\\n9,lebu,-37.6167,287.01,79,0,7.29\\r\\n10,genhe,50.7833,259.27,72,100,1.57\\r\\n11,comodoro rivadavia,-45.8667,291.07,36,0,2.57\\r\\n12,punta arenas,-53.15,284.21,82,75,3.09\\r\\n13,cleethorpes,53.5605,278.7,92,100,7.62\\r\\n14,balkanabat,39.5108,278.31,41,0,2.93\\r\\n15,linden,6,296.23,97,12,1.04\\r\\n16,ilulissat,69.2167,257.16,78,100,2.06\\r\\n17,dingle,10.9995,302.67,62,79,6.03\\r\\n18,severo-kurilsk,50.6789,272.17,90,100,7\\r\\n19,bengkulu,-3.8004,300.05,70,100,0.19\\r\\n20,riyadh,24.6877,285.23,34,17,5.16\\r\\n21,puerto ayora,-0.7393,297.2,89,98,2.8\\r\\n22,segezha,63.7415,273.67,98,100,6.68\\r\\n23,busselton,-33.65,305.4,35,5,2.59\\r\\n24,matara,5.9485,299.7,73,29,2.55\\r\\n25,qeshm,26.9581,288.08,58,0,0.86\\r\\n26,hithadhoo,-0.6,301.4,66,96,6.76\\r\\n27,ushuaia,-54.8,283.96,66,40,7.2\\r\\n28,port lincoln,-34.7333,293.28,60,56,6.82\\r\\n29,catuday,16.2923,300.58,67,75,3.09\\r\\n30,maniitsoq,65.4167,251.75,85,99,3.08\\r\\n31,narsaq,60.9167,258.27,71,100,4.49\\r\\n32,poum,-20.2333,301.14,76,30,6.82\\r\\n33,mataura,-46.1927,295.64,32,100,3.08\\r\\n34,abadan,30.3392,288.35,29,92,2.65\\r\\n35,port hedland,-20.3167,312.18,29,14,2.57\\r\\n36,belushya guba,,,,,\\r\\n37,tipuani,-15.5648,294.8,98,100,0.79\\r\\n38,kushima,31.4583,282.22,57,100,6.13\\r\\n39,aleysk,52.4926,263.66,74,100,8.97\\r\\n40,rikitea,-23.1203,298.88,71,7,3.44\\r\\n41,la rioja,42.25,273.03,55,0,2.99\\r\\n42,saint-philippe,-21.3585,298.92,81,93,6.01\\r\\n43,talnakh,69.4865,253.82,91,99,5.01\\r\\n44,tuktoyaktuk,69.4541,251.12,97,100,5.98\\r\\n45,banfora,10.6333,298.37,15,4,2.91\\r\\n46,vorukh,39.8494,271.1,43,21,3.9\\r\\n47,torbay,47.6666,281.8,83,100,6.71\\r\\n48,bandarbeyla,9.4942,295.24,72,2,6.5\\r\\n49,hobart,-42.8794,293.72,45,20,10.8\\r\\n50,sao joao da barra,-21.6403,297.26,91,100,4.32\\r\\n51,bluff,-46.6,295.82,49,100,5.55\\r\\n52,meadow lake,34.8014,275.99,48,2,0.13\\r\\n53,kapaa,22.0752,301.14,71,0,6.69\\r\\n54,talcahuano,-36.7167,287.97,63,0,7.2\\r\\n55,saleaula,,,,,\\r\\n56,wewak,-3.5534,302.93,66,100,1.6\\r\\n57,carnarvon,-24.8667,306.75,46,100,2\\r\\n58,victoria,22.2855,292.02,86,100,9.39\\r\\n59,dikson,73.5069,246.11,93,60,3.69\\r\\n60,salalah,17.0151,293.2,68,0,1.03\\r\\n61,qasigiannguit,68.8193,257.29,94,100,2.49\\r\\n62,cabo san lucas,22.8909,292.32,82,75,0\\r\\n63,nikolskoye,59.7035,274.75,93,100,6.52\\r\\n64,castro,-24.7911,287.22,98,12,3.33\\r\\n65,thinadhoo,0.5333,300.92,67,100,5.17\\r\\n66,nuuk,64.1835,258.49,56,20,6.17\\r\\n67,goderich,43.7501,269.21,93,100,10.62\\r\\n68,hilo,19.7297,297,91,75,5.14\\r\\n69,pangody,65.85,259.41,99,98,3.46\\r\\n70,mrirt,,,,,\\r\\n71,tiksi,71.6872,240.5,99,84,1.44\\r\\n72,caraquet,47.7941,277.78,95,100,1.22\\r\\n73,arraial do cabo,-22.9661,297.42,89,71,4.86\\r\\n74,bredasdorp,-34.5322,290.53,78,16,5.24\\r\\n75,geraldton,-28.7667,310.38,10,13,9.77\\r\\n76,sol-iletsk,51.1631,258.76,94,65,3.11\\r\\n77,pevek,69.7008,239.6,97,100,1.93\\r\\n78,saldanha,-33.0117,291.51,75,21,2.52\\r\\n79,yellowknife,62.456,248.38,85,100,5.81\\r\\n80,kudahuvadhoo,2.6708,300.45,67,98,3.79\\r\\n81,new norfolk,-42.7826,293.52,33,26,2.68\\r\\n82,kodinsk,58.6881,256.31,90,100,1.94\\r\\n83,linjiang,41.8069,266.52,77,100,1.45\\r\\n84,samarai,-10.6167,302.22,74,46,2.3\\r\\n85,mys shmidta,,,,,\\r\\n86,tarudant,,,,,\\r\\n87,sioux lookout,50.1001,244.3,98,34,1.04\\r\\n88,ixtapa,20.7,295.72,83,0,2.06\\r\\n89,butaritari,3.0707,300.82,72,9,9.98\\r\\n90,port elizabeth,-33.918,290.65,79,1,2.55\\r\\n91,lagoa,39.05,283.02,63,100,10.48\\r\\n92,hualmay,-11.0964,294.9,84,99,3.32\\r\\n93,qaanaaq,77.484,249.28,77,100,3.17\\r\\n94,anadyr,64.75,252.43,76,5,8\\r\\n95,shetpe,44.1667,274.11,49,100,5.49\\r\\n96,luderitz,-26.6481,294.75,73,45,4.56\\r\\n97,nouadhibou,20.931,292.5,48,100,5.98\\r\\n98,alofi,-19.0595,302.09,74,40,4.63\\r\\n99,kaeo,-35.1,295.56,55,90,3.4\\r\\n100,kalas,18.1667,296.48,37,0,0.53\\r\\n101,awjilah,29.1081,283.22,74,5,5.98\\r\\n102,myitkyina,25.3833,294.71,34,0,1.13\\r\\n103,camana,-16.6228,295.19,85,89,1.43\\r\\n104,sao filipe,14.8961,296.18,66,100,1.71\\r\\n105,leeton,-34.5667,299.76,21,0,5.36\\r\\n106,onega,63.9061,273.95,98,100,5.73\\r\\n107,taoudenni,22.6783,288.96,17,88,5.28\\r\\n108,thompson,55.7435,243.32,100,82,1.56\\r\\n109,la asuncion,11.0333,296.93,85,25,5.63\\r\\n110,ridgecrest,35.6225,285.05,21,0,2.57\\r\\n111,vaini,-21.2,300.86,73,54,4.51\\r\\n112,ponta delgada,37.7333,283.98,66,40,6.69\\r\\n113,illoqqortoormiut,,,,,\\r\\n114,cape town,-33.9258,292.65,72,0,0.45\\r\\n115,santa lucia,27.9117,285.8,77,20,7.72\\r\\n116,coquimbo,-29.9533,291,88,100,1.03\\r\\n117,oriximina,-1.7656,297.06,93,100,0.75\\r\\n118,rubtsovsk,51.5,261.05,78,100,7.27\\r\\n119,hailun,47.45,260.79,84,100,1.97\\r\\n120,batemans bay,-35.7167,304.93,72,71,5.4\\r\\n121,topolobampo,25.6,288.1,63,0,5.14\\r\\n122,san patricio,28.017,286.08,46,2,10.04\\r\\n123,sorong,-0.8833,300,84,100,1.87\\r\\n124,port alfred,-33.5906,292.61,71,36,3.99\\r\\n125,georgetown,5.4112,304.11,75,20,3.6\\r\\n126,plouzane,48.3833,285.2,97,100,11.83\\r\\n127,odweyne,9.4092,288.98,64,2,0.57\\r\\n128,bethel,41.3712,286.48,88,100,5.14\\r\\n129,tripoli,32.8752,287.53,82,98,5.7\\r\\n130,kande,9.9578,298.59,16,1,1.19\\r\\n131,la macarena,2.1837,296.74,67,58,1.24\\r\\n132,gwanda,-20.9333,291.27,77,0,5.03\\r\\n133,paita,-5.0892,295.42,80,89,4.59\\r\\n134,amderma,,,,,\\r\\n135,sentyabrskiy,,,,,\\r\\n136,albany,42.6001,286.38,93,100,1.34\\r\\n137,moree,-29.4667,308.12,24,0,3.27\\r\\n138,zhicheng,30.2956,277.18,58,90,3.86\\r\\n139,nagato,34.3833,282.15,58,100,4.61\\r\\n140,tabiauea,,,,,\\r\\n141,limbang,4.75,302.21,61,36,0.57\\r\\n142,viedma,-40.8135,289.9,55,0,7.18\\r\\n143,irondequoit,43.2134,276.18,95,100,5.14\\r\\n144,husavik,66.0449,265.99,92,94,3.11\\r\\n145,prescott,34.54,278.8,30,0,2.06\\r\\n146,san rafael,-34.6177,293.28,29,0,1.09\\r\\n147,sikea,,,,,\\r\\n148,kiama,-34.6833,304.26,65,1,0.45\\r\\n149,ahipara,-35.1667,295.97,56,85,1.93\\r\\n150,mehamn,71.0357,271.98,66,100,12.54\\r\\n151,monjas,14.5,293.65,67,0,1.39\\r\\n152,novobirilyussy,56.9514,262.95,92,100,4.52\\r\\n153,barentsburg,,,,,\\r\\n154,chokurdakh,70.6333,239.54,100,15,0.72\\r\\n155,filipeni,46.5333,278.49,61,62,6.34\\r\\n156,neiafu,-18.65,300.99,71,22,2.8\\r\\n157,avarua,-21.2078,299.18,89,75,3.09\\r\\n158,grand-santi,4.25,295.13,99,100,0.91\\r\\n159,tautira,-17.7333,300.16,74,29,5.9\\r\\n160,pecos,31.4229,278.87,33,0,3.09\\r\\n161,tasiilaq,65.6145,268.24,93,100,8.45\\r\\n162,mar del plata,-38.0023,291.53,76,0,5.36\\r\\n163,abu samrah,35.3029,280.82,76,6,2.04\\r\\n164,estancia,-11.2683,297.52,85,97,1.69\\r\\n165,katsuura,35.1333,283.23,38,0,8.58\\r\\n166,upernavik,72.7868,240.47,97,98,2.05\\r\\n167,flin flon,54.7682,250.97,96,100,2.47\\r\\n168,fort nelson,58.8053,254.62,93,100,2.57\\r\\n169,denpasar,-8.65,302.99,74,20,4.63\\r\\n170,clinton,42.587,268.68,91,100,6.17\\r\\n171,chuy,-33.6971,293.34,83,41,3.7\\r\\n172,floro,61.5996,276.13,87,75,6.69\\r\\n173,kijang,35.2442,277.37,55,100,3.56\\r\\n174,hasaki,35.7333,283.31,33,0,9.25\\r\\n175,karratha,-20.7377,309.78,33,56,1.37\\r\\n176,ravar,31.2656,280.65,52,100,1.71\\r\\n177,borama,,,,,\\r\\n178,longyearbyen,78.2186,260.06,72,0,6.69\\r\\n179,isangel,-19.55,305.21,70,75,2.57\\r\\n180,pisco,-13.7,294.18,78,0,3.6\\r\\n181,inhambane,-23.865,297.6,85,60,4.39\\r\\n182,kargil,34.5667,249.69,88,71,0.5\\r\\n183,lac du bonnet,50.2536,242.55,100,38,2.06\\r\\n184,deputatskiy,69.3,240.73,99,58,1.08\\r\\n185,clyde river,70.4692,235.89,85,72,1.56\\r\\n186,kununurra,-15.7667,307.14,52,66,3.09\\r\\n187,najran,17.4924,286.68,38,4,0.47\\r\\n188,fakel,57.6325,266.44,89,68,5.87\\r\\n189,baykit,61.67,252.61,100,100,1.33\\r\\n190,sitka,57.0531,278.09,87,100,2.57\\r\\n191,sayyan,15.1718,283.47,52,2,0.79\\r\\n192,tuensang,26.2833,290.68,41,0,1.03\\r\\n193,east london,-33.0153,293.58,72,96,3.35\\r\\n194,marzuq,14.4,288.7,69,2,1.78\\r\\n195,namtsy,62.7161,242.21,91,60,0.93\\r\\n196,petropavlovsk-kamchatskiy,53.0452,271.48,69,75,1\\r\\n197,nouakchott,18.0858,294.11,31,100,4.48\\r\\n198,daru,-9.0763,298.79,88,100,3.23\\r\\n199,barrow,71.2906,248.16,77,100,0\\r\\n200,erlensee,50.16,282.81,73,100,4.43\\r\\n201,ferrol,43.4832,287.41,82,91,7.97\\r\\n202,roma,43.2128,285.74,97,100,3.13\\r\\n203,puerto leguizamo,-0.1934,294.88,97,99,1.01\\r\\n204,phan rang,,,,,\\r\\n205,ipu,-4.3222,296.51,85,97,1.6\\r\\n206,fukue,32.6881,280.22,62,100,7.74\\r\\n207,grand gaube,-20.0064,299.47,77,100,2.24\\r\\n208,dzhusaly,,,,,\\r\\n209,airai,-8.9266,295.52,68,55,0.67\\r\\n210,kazalinsk,,,,,\\r\\n211,vao,-22.6667,299.55,83,98,5.28\\r\\n212,marawi,7.9986,295.18,57,99,2.96\\r\\n213,timbiqui,2.7717,296.54,96,68,2.18\\r\\n214,acajutla,13.5928,300.26,68,16,3.84\\r\\n215,sabang,5.8933,301.69,71,66,2.27\\r\\n216,kodiak,57.79,279.88,76,100,3.09\\r\\n217,cherskiy,68.75,239.12,97,62,0.52\\r\\n218,boromo,11.75,297.85,15,3,3.29\\r\\n219,danville,36.586,293.51,69,40,5.81\\r\\n220,alamogordo,32.8995,276.6,83,0,1.54\\r\\n221,lompoc,34.6391,287.11,73,0,7.6\\r\\n222,la ronge,55.1001,256.09,97,100,2.63\\r\\n223,barranca de upia,4.5696,300.88,52,99,1.31\\r\\n224,akyab,20.15,296.57,31,6,4.81\\r\\n225,codrington,-38.2667,291.06,51,82,7.1\\r\\n226,hofn,64.2539,272.49,69,97,6.87\\r\\n227,yar-sale,66.8333,254.59,99,77,2.65\\r\\n228,andra,62.5147,258.78,100,88,2.12\\r\\n229,ancud,-41.8697,283.94,80,0,2.21\\r\\n230,mocambique,,,,,\\r\\n231,manicore,-5.8092,296,99,100,0.47\\r\\n232,souillac,-20.5167,299.46,76,100,8.55\\r\\n233,brae,60.3964,278.1,59,76,9.31\\r\\n234,kemijarvi,66.7131,267.27,94,100,5.91\\r\\n235,vardo,70.3705,272.48,61,100,14.59\\r\\n236,canto do buriti,-8.11,295.22,90,26,0.44\\r\\n237,provideniya,64.3833,261.21,61,0,9\\r\\n238,atar,20.5169,292.87,8,100,2.86\\r\\n239,constitucion,-35.3333,287.3,76,0,6.38\\r\\n240,cam ranh,11.9214,302.13,70,20,2.06\\r\\n241,tukan,53.8409,257.05,95,54,2.12\\r\\n242,longhua,23.6137,288.6,92,100,0.73\\r\\n243,gannan,47.9147,261.62,90,100,3.53\\r\\n244,lorengau,-2.0226,301.56,78,100,2.29\\r\\n245,pierre,44.3683,273.3,42,0,2.57\\r\\n246,jalu,29.0331,283.28,74,5,5.9\\r\\n247,takhtamygda,54.1,258.15,65,16,1.48\\r\\n248,miranorte,,,,,\\r\\n249,lutz,28.1511,296.63,80,40,0.45\\r\\n250,puerto escondido,15.85,300.61,69,75,3.6\\r\\n251,sinjar,36.3209,282.58,61,100,2.29\\r\\n252,lulea,65.5842,267.19,93,100,6.69\\r\\n253,betong,5.7743,299.97,76,90,0.75\\r\\n254,palabuhanratu,,,,,\\r\\n255,paamiut,61.994,256.99,84,100,2.88\\r\\n256,khatanga,71.9667,236.61,99,33,1.41\\r\\n257,udaipura,23.0833,292.86,26,1,3.55\\r\\n258,mezen,65.8522,272.22,97,100,4.85\\r\\n259,akdepe,42.0551,267.15,57,0,3.81\\r\\n260,bawku,11.0616,300.38,14,21,3.48\\r\\n261,laureles,26.1092,293.68,67,0,2.57\\r\\n262,laurel,39.0993,293.15,63,75,6.17\\r\\n263,grindavik,63.8424,270.41,74,0,2.57\\r\\n264,ponta do sol,32.6667,289.5,52,41,1.57\\r\\n265,benguela,-12.5763,298.3,75,100,1.19\\r\\n266,saint-ambroise,48.5501,264.03,88,100,2.93\\r\\n267,kushmurun,52.4503,261.74,95,99,6.25\\r\\n268,saskylakh,71.9167,242.64,92,60,3.62\\r\\n269,noumea,-22.2763,303.14,99,92,4.5\\r\\n270,henties bay,-22.116,294.18,89,70,2.77\\r\\n271,vaitupu,,,,,\\r\\n272,dembi dolo,8.5333,291.74,31,66,2.25\\r\\n273,ostrovnoy,68.0531,270.64,94,100,7.76\\r\\n274,yeppoon,-23.1333,306.03,63,65,4.76\\r\\n275,lavrentiya,65.5833,252.23,91,100,6.17\\r\\n276,ryotsu,38.0833,276.13,65,76,6.11\\r\\n277,ketchikan,55.3422,280.14,100,100,2.57\\r\\n278,quesnel,52.9999,275.25,97,100,1.17\\r\\n279,necochea,-38.5473,286.5,80,0,3.85\\r\\n280,fairbanks,64.8378,263.05,65,100,3.09\\r\\n281,kargasok,59.0556,264.97,95,100,3.68\\r\\n282,chifeng,42.2683,266.84,50,83,4.32\\r\\n283,solnechnyy,50.7214,262.39,84,91,1.41\\r\\n284,bambous virieux,-20.3428,299.38,77,100,9\\r\\n285,lamtah,35.6667,289.02,72,20,3.09\\r\\n286,richards bay,-28.783,294.78,87,100,2.51\\r\\n287,south shields,54.9986,277.7,87,75,3.09\\r\\n288,bowen,-20.0167,301.84,74,90,6.2\\r\\n289,zacualtipan,20.65,287.42,76,2,0.38\\r\\n290,kaputa,-8.4689,292.03,86,98,1.43\\r\\n291,hobyo,5.3505,296.58,74,60,6.58\\r\\n292,bontang,0.1333,300.98,73,100,2.22\\r\\n293,takanabe,32.1333,281.14,49,100,4.93\\r\\n294,mount gambier,-37.8333,293.35,41,26,5.24\\r\\n295,barra do corda,-5.5,295.66,97,95,0.54\\r\\n296,doctor pedro p. pena,,,,,\\r\\n297,northam,51.0333,285.03,96,100,13.04\\r\\n298,baisha,26.5222,276.64,96,100,1.95\\r\\n299,dhidhdhoo,6.8833,300.27,71,20,1.33\\r\\n300,prabumulih,-3.45,297.94,91,100,1.41\\r\\n301,namatanai,-3.6667,302.43,68,97,3.64\\r\\n302,nantucket,41.2835,286.34,93,100,7.72\\r\\n303,donaueschingen,47.95,280.11,90,77,2.69\\r\\n304,saint anthony,45.0205,257.55,63,0,2.57\\r\\n305,port blair,11.6667,298.17,94,100,1.03\\r\\n306,anamur,36.0751,283.16,65,47,2.2\\r\\n307,clarence town,-32.5833,310.56,28,0,2.6\\r\\n308,tsihombe,,,,,\\r\\n309,dillon,34.4166,294.4,82,96,9.02\\r\\n310,batagay-alyta,67.8006,246.19,84,99,0.98\\r\\n311,bielsk podlaski,52.7651,275.94,87,100,8.84\\r\\n312,hailar,49.2,258.95,89,100,4.47\\r\\n313,cidreira,-30.1811,295.65,84,2,4.38\\r\\n314,san juan,-31.5375,300.72,25,69,1.5\\r\\n315,camacha,33.0833,287.83,63,75,3.09\\r\\n316,hvittingfoss,59.4833,276.55,52,99,7.6\\r\\n317,gosainganj,26.5833,289.12,55,0,2.43\\r\\n318,sola,-13.8833,301.07,70,96,0.22\\r\\n319,tabas,33.5959,281.18,37,32,1.46\\r\\n320,syracuse,37.0881,282.21,63,10,2.26\\r\\n321,savinka,50.0785,270.95,88,99,6.14\\r\\n322,bukama,-9.2,293.14,98,100,0.81\\r\\n323,khonuu,,,,,\\r\\n324,bur gabo,,,,,\\r\\n325,tevaitoa,-16.7833,300.05,73,26,4.36\\r\\n326,le chambon-feugerolles,45.3969,279.46,87,0,3.6\\r\\n327,toliary,,,,,\\r\\n328,kiunga,-6.1219,306.11,55,83,0.58\\r\\n329,yairipok,24.6667,289.36,39,0,1.03\\r\\n330,qaqortoq,60.7167,258.43,70,100,4.37\\r\\n331,pemberton,50.3164,278.89,98,98,1.56\\r\\n332,grand river south east,,,,,\\r\\n333,kadoshkino,54.0257,273.92,86,100,10.85\\r\\n334,goundam,16.4145,292.57,18,75,3.95\\r\\n335,yanchukan,,,,,\\r\\n336,ambilobe,-13.2,296.08,95,9,0.97\\r\\n337,joniskis,56.2403,274.66,84,94,7.53\\r\\n338,quthing,-30.4,288.21,77,23,1.77\\r\\n339,korla,41.7597,269.55,36,48,2.28\\r\\n340,coihaique,-45.5752,289.49,67,98,1.03\\r\\n341,san cristobal,7.7669,294.25,76,97,0.23\\r\\n342,kawalu,-7.3817,301.32,72,96,0.73\\r\\n343,komsomolskiy,40.4272,272.83,74,88,3.09\\r\\n344,xochistlahuaca,16.7833,295.36,81,0,0.23\\r\\n345,mabay,6.0577,302.9,65,93,2.58\\r\\n346,canico,32.6333,289.75,72,40,2.57\\r\\n347,maragheh,37.3917,271.83,84,100,1.97\\r\\n348,kavaratti,10.5669,300.11,66,0,4.57\\r\\n349,mancio lima,-7.6142,295.04,98,56,0.95\\r\\n350,coahuayana,18.7333,294.62,87,0,0.82\\r\\n351,palmer,42.1584,287.8,79,100,9.26\\r\\n352,marcona,,,,,\\r\\n353,cazaje,,,,,\\r\\n354,agva,,,,,\\r\\n355,tuatapere,-46.1333,295.83,44,100,5.48\\r\\n356,north platte,41.1239,271.14,64,0,4.63\\r\\n357,wanaka,-44.7,294.32,42,100,6.26\\r\\n358,nacozari,25.3366,288.21,37,100,5.2\\r\\n359,naliya,23.2667,293.23,60,0,3.7\\r\\n360,ada,43.4166,277.9,58,0,0\\r\\n361,yulara,-25.2406,302.54,22,0,6.51\\r\\n362,hervey bay,-25.2986,303.73,62,9,2.76\\r\\n363,manali,13.1667,300.41,76,50,3.78\\r\\n364,guerrero negro,27.9769,290.61,50,0,2.59\\r\\n365,great yarmouth,52.6083,282.01,87,100,6.11\\r\\n366,plettenberg bay,-34.0527,289.92,84,0,1.88\\r\\n367,babanusah,,,,,\\r\\n368,la palma,33.8464,291.6,35,0,4.63\\r\\n369,faanui,-16.4833,300.12,73,20,4.01\\r\\n370,ambon,-3.6954,306.23,55,40,6.17\\r\\n371,mount isa,-20.7333,309.02,26,1,2.06\\r\\n372,santa marta,11.2408,302.53,55,24,11.62\\r\\n373,north bend,43.4065,282.01,96,0,5.66\\r\\n374,cap-aux-meules,47.3821,277.18,100,100,8.23\\r\\n375,lotofaga,-13.9764,300.39,78,72,3.71\\r\\n376,arlit,18.7369,293.37,16,11,3.94\\r\\n377,alae,8.4244,297.13,54,100,1.8\\r\\n378,tual,-5.6667,301.48,72,94,2.24\\r\\n379,ghanzi,-21.5667,293.06,46,31,3.24\\r\\n380,cockburn town,21.4612,298.34,78,4,8.9\\r\\n381,ternate,0.8,301.21,71,92,1.33\\r\\n382,makakilo city,21.3469,300.33,57,20,5.66\\r\\n383,yinchuan,38.4681,270,36,100,2.52\\r\\n384,leningradskiy,69.3833,248.15,98,100,3.96\\r\\n385,umm kaddadah,13.6017,290.5,14,5,4.69\\r\\n386,norman wells,65.282,241.63,99,22,1.2\\r\\n387,tumannyy,,,,,\\r\\n388,teguise,29.0605,287.27,77,95,4.12\\r\\n389,ust-omchug,61.15,250.43,91,72,3.14\\r\\n390,xadani,,,,,\\r\\n391,ambovombe,-25.1667,294.86,92,0,2.43\\r\\n392,vysokogornyy,50.1167,259.41,81,100,4.1\\r\\n393,obuasi,6.206,295.84,96,100,0.94\\r\\n394,padang,-0.9492,303.18,59,68,0.51\\r\\n395,dubbo,-32.25,304.22,25,4,6.17\\r\\n396,iskateley,67.6803,269.21,91,100,6.39\\r\\n397,bahia honda,22.9036,295.8,88,10,2.12\\r\\n398,kota,25.1833,292.02,32,0,1.71\\r\\n399,bella union,-30.2752,300.67,37,0,6.6\\r\\n400,tucurui,-3.7661,295.72,94,99,0.73\\r\\n401,santa eulalia del rio,,,,,\\r\\n402,karksi-nuia,58.1033,273.08,87,100,5.87\\r\\n403,saint-augustin,51.226,271.52,90,100,3.72\\r\\n404,beira,-19.8436,301.2,74,40,8.23\\r\\n405,maceio,-9.6658,296.84,88,0,2.06\\r\\n406,harindanga,22.0383,293.14,34,2,3.57\\r\\n407,san juan del sur,11.2529,298.99,74,100,9.29\\r\\n408,villamontes,-21.25,294.88,96,100,1.15\\r\\n409,villa carlos paz,-31.4241,293.74,84,2,1.68\\r\\n410,khromtau,50.2503,257.28,94,5,2.88\\r\\n411,attawapiskat,,,,,\\r\\n412,gorele,41.0308,278.84,53,98,3.54\\r\\n413,tiznit,29.5833,287.03,36,100,1.62\\r\\n414,vanimo,-2.6741,302.78,70,100,2.78\\r\\n415,havre-saint-pierre,50.2334,271.48,100,100,4.12\\r\\n416,zapolyarnyy,69.4154,270.75,80,100,12.39\\r\\n417,ocampo,21.65,286.69,35,4,2.89\\r\\n418,azad shahr,34.7909,275.04,68,100,1.72\\r\\n419,laguna,38.421,288.9,57,0,1.54\\r\\n420,carutapera,-1.195,297.63,87,100,2.3\\r\\n421,praia da vitoria,38.7333,282.46,81,75,11.67\\r\\n422,hrubieszow,50.805,279.02,82,99,9\\r\\n423,cap malheureux,-19.9842,299.52,77,100,2.24\\r\\n424,okhotsk,59.3833,258.65,73,73,5.2\\r\\n425,san julian,21.0167,288.36,35,1,2.24\\r\\n426,kahului,20.8947,299.16,78,0,9.77\\r\\n427,banda aceh,5.5577,301.94,71,44,0.64\\r\\n428,janakkala,60.9,271.3,90,100,6.35\\r\\n429,chunhuhub,19.55,294.39,96,0,1.34\\r\\n430,iqaluit,63.7506,240.2,67,0,5.14\\r\\n431,yavas,54.4159,274.87,91,100,8.36\\r\\n432,esil,51.9556,259.2,93,99,4.98\\r\\n433,tazovskiy,67.4667,260.39,94,100,5.83\\r\\n434,kangaba,11.9333,296.17,18,3,2.01\\r\\n435,nizhneyansk,,,,,\\r\\n436,shediac,46.2198,284.5,81,100,11.32\\r\\n437,buta,2.7858,294.55,59,95,0.78\\r\\n438,gijon,43.5357,283.29,90,14,1.79\\r\\n439,yakeshi,49.2833,259.36,83,100,4.31\\r\\n440,hirara,24.8,292.3,88,75,11.83\\r\\n441,yumen,40.2833,263.54,70,100,2.32\\r\\n442,zarinsk,53.7074,264.7,92,100,7.91\\r\\n443,currais novos,-6.2608,296.62,77,70,4.15\\r\\n444,flinders,-34.5833,304.15,66,1,1.79\\r\\n445,mogwase,-25.185,291.2,83,20,0.5\\r\\n446,tokur,53.1333,257.41,85,98,0.72\\r\\n447,miri,4.4148,303.23,74,40,2.06\\r\\n448,urengoy,65.9667,261.47,96,100,4.22\\r\\n449,mahebourg,-20.4081,299.4,89,75,6.69\\r\\n450,yaan,7.3833,299.34,52,11,1.92\\r\\n451,pakxe,15.1167,301.23,78,40,2.06\\r\\n452,jardim,-21.4803,301.95,31,100,4.2\\r\\n453,ambulu,-8.345,303.12,65,32,1.1\\r\\n454,setermoen,68.861,269.13,86,100,2.68\\r\\n455,humberto de campos,-2.5983,297.16,89,99,1.49\\r\\n456,karaul,,,,,\\r\\n457,nome,64.5011,264.19,38,0,5.66\\r\\n458,pangnirtung,66.1451,245.41,99,99,0.98\\r\\n459,egvekinot,66.3167,250.31,87,6,7.5\\r\\n460,aripuana,-9.1667,295.58,99,93,0.84\\r\\n461,hafizabad,32.0679,286.62,56,16,1.89\\r\\n462,zahir pir,28.8124,288.98,45,0,5.36\\r\\n463,san felipe,10.3399,294.54,91,99,2.52\\r\\n464,bintulu,3.1667,303.38,74,20,1.54\\r\\n465,boguchany,58.3814,257.18,89,100,2.06\\r\\n466,kaniama,-7.5667,291.73,97,100,1.1\\r\\n467,manado,1.487,302.58,79,40,3.6\\r\\n468,louisbourg,,,,,\\r\\n469,kushiro,42.975,270.68,54,75,3.6\\r\\n470,port moresby,-9.4431,302.83,70,75,4.12\\r\\n471,kupang,-10.1667,302.99,68,10,1.03\\r\\n472,nalut,30.3333,282.02,64,0,2.81\\r\\n473,vila velha,-20.3297,298.12,86,0,2.57\\r\\n474,hamilton,39.1834,275.4,95,100,9.77\\r\\n475,shakawe,-18.3667,292.39,80,14,2.01\\r\\n476,caborca,30.5838,285.43,24,0,3.98\\r\\n477,biak,-0.9131,299.51,74,100,0.28\\r\\n478,xining,36.6167,265.87,71,100,3.08\\r\\n479,novoagansk,61.9449,265.76,96,98,3.37\\r\\n480,newcastle,-32.9272,308.81,63,20,4.63\\r\\n481,puno,-15.8333,280.79,78,56,1.55\\r\\n482,kruisfontein,-34.0033,287.78,86,0,2.02\\r\\n483,shu,43.5983,266.69,73,3,1.4\\r\\n484,sumbe,-11.2061,298.01,79,100,1.48\\r\\n485,kaset sombun,16.2805,300.06,62,81,1.01\\r\\n486,porto novo,6.4965,301.05,87,100,2.4\\r\\n487,hoi an,15.8794,301.13,81,39,2.18\\r\\n488,mulatupo,8.9492,298.02,89,93,3.94\\r\\n489,tommot,58.9564,253.55,90,100,1.31\\r\\n490,yasnogorsk,54.4803,274.28,99,100,7.7\\r\\n491,kualakapuas,-3.0091,298.24,81,99,3.04\\r\\n492,kutum,14.2,288.89,15,29,1.18\\r\\n493,fare,-16.7,300.11,72,7,4.25\\r\\n494,santa cruz cabralia,-16.2781,298.28,94,40,1.03\\r\\n495,porec,45.2258,280.02,84,67,2.43\\r\\n496,broome,42.2506,286.18,80,100,8.05\\r\\n497,puerto lopez,4.0845,302.41,47,90,2.44\\r\\n498,cayenne,4.9333,299.31,85,75,1.79\\r\\n499,bereda,43.2686,285.37,98,39,3.68\\r\\n500,yatou,37.15,273.35,47,69,1.62\\r\\n501,lolua,,,,,\\r\\n502,mersing,2.4312,303.1,79,40,3.6\\r\\n503,luorong,24.4058,281.74,89,100,3.93\\r\\n504,los llanos de aridane,28.6585,289.01,39,75,4.47\\r\\n505,khorramshahr,30.4397,286.13,62,0,2.06\\r\\n506,gazanjyk,39.2446,276.2,47,0,3.97\\r\\n507,chagda,,,,,\\r\\n508,tawnat,,,,,\\r\\n509,carrick-on-suir,52.3492,281.79,81,90,11.38\\r\\n510,savannah bight,16.45,299.26,84,0,11.23\\r\\n511,nguiu,,,,,\\r\\n512,lodja,-3.4833,293.1,98,80,0.72\\r\\n513,umzimvubu,,,,,\\r\\n514,san pedro,14.35,301.72,70,75,1.54\\r\\n515,morant bay,17.8815,299.94,81,13,4.98\\r\\n516,nan,18.8333,300.16,69,20,4.12\\r\\n517,hovd,48.0056,253.62,68,14,1.91\\r\\n518,utkivka,49.7858,276.49,95,100,6.04\\r\\n519,mackay,-21.15,305.75,72,100,5.74\\r\\n520,tessalit,20.1986,292.15,20,100,3.1\\r\\n521,buala,-8.145,302.02,75,52,1.64\\r\\n522,bilma,18.6853,290.05,30,4,8.86\\r\\n523,hambantota,6.1241,298.99,65,84,3.25\\r\\n524,pitimbu,-7.4706,299.48,69,0,3.01\\r\\n525,kovdor,67.5662,266.6,94,100,5.01\\r\\n526,kathmandu,27.7167,283.27,81,20,0\\r\\n527,san quintin,30.4833,287.35,74,0,2.36\\r\\n528,caravelas,-17.7125,298.14,88,100,2.7\\r\\n529,aberdare,51.7144,284.81,96,100,10.62\\r\\n530,asyut,27.181,285.3,61,100,2.93\\r\\n531,ulaangom,49.9811,247.1,87,56,0.41\\r\\n532,miandrivazo,-19.5167,298.56,84,62,0.97\\r\\n533,sarakhs,36.5449,274.23,64,0,3.09\\r\\n534,illapel,-31.6308,293.93,66,0,1.19\\r\\n535,semme,46.1963,282.38,95,100,4.2\\r\\n536,suntar,62.1444,245.42,95,97,1.17\\r\\n537,quatre cocos,-20.2078,299.31,79,100,9.07\\r\\n538,buraydah,26.326,285.4,29,31,4.4\\r\\n539,alta floresta,-9.8756,295.36,97,100,1.29\\r\\n540,ekhabi,53.5102,265.75,93,100,6.79\\r\\n541,jaspur,29.2833,287.45,49,0,1.45\\r\\n542,kirkuk,35.4681,283.89,46,100,1.99\\r\\n543,kendari,-3.945,304.48,58,27,1.42\\r\\n544,praya,14.9215,295.45,78,100,8.75\\r\\n545,narasannapeta,18.4167,297.45,69,3,1.69\\r\\n546,dallas,32.7668,274.91,66,75,6.26\\r\\n547,atka,,,,,\\r\\n548,progreso,21.2833,299.21,70,1,6.24\\r\\n549,neverkino,52.7854,270.56,88,97,7.66\\r\\n550,karacabey,40.2152,279.36,72,92,1.88\\r\\n551,college,64.8569,263.04,65,100,3.09\\r\\n552,antequera,37.0194,285.62,46,6,2.31\\r\\n553,lebedinyy,58.5167,251,92,100,2.03\\r\\n554,berlevag,70.8578,272.38,61,100,13.48\\r\\n555,waipawa,-41.4122,294.5,53,9,4.31\\r\\n556,sechura,-5.5569,295.78,75,74,5.4\\r\\n557,bathsheba,13.2167,297.49,83,40,7.2\\r\\n558,veseloyarsk,51.2836,260.66,78,100,6.67\\r\\n559,batticaloa,7.7102,298.04,81,98,3.73\\r\\n560,longlac,,,,,\\r\\n561,ciudad real,39,280.43,96,14,0.45\\r\\n562,damghan,36.1683,275.62,56,46,1.51\\r\\n563,truro,50.2653,285.75,94,75,12.86\\r\\n564,leshukonskoye,64.8989,272.73,97,100,5.42\\r\\n565,lata,40.1629,284.84,98,35,0.41\\r\\n566,polunochnoye,60.8697,262.95,94,87,2.17\\r\\n567,idil,37.3411,279.89,60,100,0.36\\r\\n568,sambava,-14.2667,297.44,86,34,3.72\\r\\n569,tampilisan,8.0167,302.07,64,83,3.68\\r\\n570,boda,4.3189,294.06,53,12,1.13\\r\\n571,danshui,22.7984,291.96,78,100,4.23\\r\\n572,pacific grove,36.6177,287.4,64,0,2.57\\r\\n573,skerries,53.5828,281.76,89,99,8.4\\r\\n574,maturin,9.75,293.6,93,14,2.22\\r\\n575,margate,51.3813,282.07,83,100,4.02\\r\\n576,zhigansk,66.7697,244.46,96,99,0.61\\r\\n577,xiamen,24.4798,288.18,67,100,4\\r\\n578,nishihara,26.1842,288.75,88,75,11.32\\r\\n579,mokhsogollokh,61.4681,250.6,90,100,0.8\\r\\n580,westport,41.1415,287.23,93,100,10.8\\r\\n581,porbandar,21.6422,294.67,49,0,4.52\\r\\n582,navapur,,,,,\\r\\n583,kandrian,-6.2167,303.81,67,100,4.44\\r\\n584,dandong,40.1292,269.5,56,100,2.56\\r\\n585,kadykchan,,,,,\\r\\n586,port-gentil,-0.7193,300.38,74,94,3.71\\r\\n587,salta,-24.7859,291.25,87,75,1.79\\r\\n588,witbank,-25.8713,286.81,91,38,2.86\\r\\n589,dongsheng,39.8161,263.16,42,100,7.42\\r\\n590,jauja,-11.7758,282.76,83,87,0.31\\r\\n591,sokolovo,52.5318,266.21,92,100,3.83\\r\\n592,yerbogachen,61.2767,251.63,96,97,1.67\\r\\n593,hidalgotitlan,17.7833,295.58,94,0,1.43\\r\\n594,namibe,-15.1961,297.78,79,98,1\\r\\n595,someshwar,13.5,297.8,60,94,0.89\\r\\n596,suffolk,40.8668,286.89,94,100,7.72\\r\\n597,ankazoabo,-22.2833,296.24,82,99,0.81\\r\\n598,lipin bor,60.2622,273.78,97,100,7.84\\r\\n599,nahariyya,33.0059,283.7,77,48,0.89\\r\\n600,eugene,44.0521,281.63,87,75,2.57\\r\\n601,shiyan,32.6475,274.81,58,98,0.57\\r\\n602,bianzhuang,34.8486,276.46,54,100,3.06\\r\\n603,fortuna,40.5982,282.7,91,0,0\\r\\n604,tosya,41.0155,273.81,81,82,1.5\\r\\n605,karasjok,69.4719,269.21,86,100,8.81\\r\\n606,tiarei,-17.5333,300.16,74,19,5.62\\r\\n607,rafaela,-31.2503,295.36,70,0,1.34\\r\\n608,erzin,36.9559,275.55,68,96,2.07\\r\\n609,kalmunai,7.4167,298.4,80,84,3.45\\r\\n610,mitsamiouli,-11.3847,300.75,74,83,0.79\\r\\n611,barbastro,42.0356,281.55,73,5,1.32\\r\\n612,saint-jean-port-joli,47.2171,272.53,96,100,6.24\\r\\n613,mulege,26.8833,287.4,60,0,4.21\\r\\n614,haines junction,60.7522,269.12,80,100,3.09\\r\\n615,cartagena del chaira,1.3349,296.96,71,72,0.94\\r\\n616,santa cruz,-17.8,295.85,100,100,4.12\\r\\n617,slobidka,47.8869,277.16,84,59,7.42\\r\\n618,baoqing,46.3317,264.09,76,66,0.66\\r\\n619,khandyga,62.6667,244.55,91,62,0.14\\r\\n620,murwillumbah,-28.3167,307.45,69,5,6.69\\r\\n621,challans,46.8436,285.26,89,98,9.32\\r\\n622,kokopo,-4.352,302.48,69,59,4.69\\r\\n623,erenhot,43.6475,258.8,80,71,5.27\\r\\n624,kobayashi,31.9833,281.58,36,100,2.65\\r\\n'"
      ]
     },
     "execution_count": 68,
     "metadata": {},
     "output_type": "execute_result"
    }
   ],
   "source": [
    "#cities_df.to_csv()"
   ]
  },
  {
   "cell_type": "markdown",
   "metadata": {},
   "source": [
    "## Inspect the data and remove the cities where the humidity > 100%.\n",
    "----\n",
    "Skip this step if there are no cities that have humidity > 100%. "
   ]
  },
  {
   "cell_type": "code",
   "execution_count": 6,
   "metadata": {},
   "outputs": [
    {
     "data": {
      "text/html": [
       "<div>\n",
       "<style scoped>\n",
       "    .dataframe tbody tr th:only-of-type {\n",
       "        vertical-align: middle;\n",
       "    }\n",
       "\n",
       "    .dataframe tbody tr th {\n",
       "        vertical-align: top;\n",
       "    }\n",
       "\n",
       "    .dataframe thead th {\n",
       "        text-align: right;\n",
       "    }\n",
       "</style>\n",
       "<table border=\"1\" class=\"dataframe\">\n",
       "  <thead>\n",
       "    <tr style=\"text-align: right;\">\n",
       "      <th></th>\n",
       "      <th>Lat</th>\n",
       "      <th>Lng</th>\n",
       "      <th>Max Temp</th>\n",
       "      <th>Humidity</th>\n",
       "      <th>Cloudiness</th>\n",
       "      <th>Wind Speed</th>\n",
       "      <th>Date</th>\n",
       "    </tr>\n",
       "  </thead>\n",
       "  <tbody>\n",
       "    <tr>\n",
       "      <th>count</th>\n",
       "      <td>550.000000</td>\n",
       "      <td>550.000000</td>\n",
       "      <td>550.000000</td>\n",
       "      <td>550.000000</td>\n",
       "      <td>550.000000</td>\n",
       "      <td>550.000000</td>\n",
       "      <td>5.500000e+02</td>\n",
       "    </tr>\n",
       "    <tr>\n",
       "      <th>mean</th>\n",
       "      <td>19.973545</td>\n",
       "      <td>17.124400</td>\n",
       "      <td>58.331400</td>\n",
       "      <td>67.890909</td>\n",
       "      <td>52.141818</td>\n",
       "      <td>8.544800</td>\n",
       "      <td>1.585764e+09</td>\n",
       "    </tr>\n",
       "    <tr>\n",
       "      <th>std</th>\n",
       "      <td>33.284840</td>\n",
       "      <td>91.595451</td>\n",
       "      <td>25.795297</td>\n",
       "      <td>20.864881</td>\n",
       "      <td>35.766469</td>\n",
       "      <td>6.078869</td>\n",
       "      <td>5.539674e+01</td>\n",
       "    </tr>\n",
       "    <tr>\n",
       "      <th>min</th>\n",
       "      <td>-54.800000</td>\n",
       "      <td>-179.170000</td>\n",
       "      <td>-11.340000</td>\n",
       "      <td>9.000000</td>\n",
       "      <td>0.000000</td>\n",
       "      <td>0.160000</td>\n",
       "      <td>1.585764e+09</td>\n",
       "    </tr>\n",
       "    <tr>\n",
       "      <th>25%</th>\n",
       "      <td>-8.077500</td>\n",
       "      <td>-64.627500</td>\n",
       "      <td>42.800000</td>\n",
       "      <td>55.000000</td>\n",
       "      <td>20.000000</td>\n",
       "      <td>4.525000</td>\n",
       "      <td>1.585764e+09</td>\n",
       "    </tr>\n",
       "    <tr>\n",
       "      <th>50%</th>\n",
       "      <td>23.630000</td>\n",
       "      <td>19.635000</td>\n",
       "      <td>64.940000</td>\n",
       "      <td>72.000000</td>\n",
       "      <td>57.000000</td>\n",
       "      <td>7.325000</td>\n",
       "      <td>1.585764e+09</td>\n",
       "    </tr>\n",
       "    <tr>\n",
       "      <th>75%</th>\n",
       "      <td>48.672500</td>\n",
       "      <td>97.350000</td>\n",
       "      <td>78.800000</td>\n",
       "      <td>83.000000</td>\n",
       "      <td>86.750000</td>\n",
       "      <td>11.410000</td>\n",
       "      <td>1.585764e+09</td>\n",
       "    </tr>\n",
       "    <tr>\n",
       "      <th>max</th>\n",
       "      <td>78.220000</td>\n",
       "      <td>179.320000</td>\n",
       "      <td>102.200000</td>\n",
       "      <td>100.000000</td>\n",
       "      <td>100.000000</td>\n",
       "      <td>46.080000</td>\n",
       "      <td>1.585764e+09</td>\n",
       "    </tr>\n",
       "  </tbody>\n",
       "</table>\n",
       "</div>"
      ],
      "text/plain": [
       "              Lat         Lng    Max Temp    Humidity  Cloudiness  Wind Speed  \\\n",
       "count  550.000000  550.000000  550.000000  550.000000  550.000000  550.000000   \n",
       "mean    19.973545   17.124400   58.331400   67.890909   52.141818    8.544800   \n",
       "std     33.284840   91.595451   25.795297   20.864881   35.766469    6.078869   \n",
       "min    -54.800000 -179.170000  -11.340000    9.000000    0.000000    0.160000   \n",
       "25%     -8.077500  -64.627500   42.800000   55.000000   20.000000    4.525000   \n",
       "50%     23.630000   19.635000   64.940000   72.000000   57.000000    7.325000   \n",
       "75%     48.672500   97.350000   78.800000   83.000000   86.750000   11.410000   \n",
       "max     78.220000  179.320000  102.200000  100.000000  100.000000   46.080000   \n",
       "\n",
       "               Date  \n",
       "count  5.500000e+02  \n",
       "mean   1.585764e+09  \n",
       "std    5.539674e+01  \n",
       "min    1.585764e+09  \n",
       "25%    1.585764e+09  \n",
       "50%    1.585764e+09  \n",
       "75%    1.585764e+09  \n",
       "max    1.585764e+09  "
      ]
     },
     "execution_count": 6,
     "metadata": {},
     "output_type": "execute_result"
    }
   ],
   "source": []
  },
  {
   "cell_type": "code",
   "execution_count": 17,
   "metadata": {},
   "outputs": [
    {
     "data": {
      "text/plain": [
       "Int64Index([], dtype='int64')"
      ]
     },
     "execution_count": 17,
     "metadata": {},
     "output_type": "execute_result"
    }
   ],
   "source": [
    "#  Get the indices of cities that have humidity over 100%.\n"
   ]
  },
  {
   "cell_type": "code",
   "execution_count": 19,
   "metadata": {},
   "outputs": [
    {
     "data": {
      "text/html": [
       "<div>\n",
       "<style scoped>\n",
       "    .dataframe tbody tr th:only-of-type {\n",
       "        vertical-align: middle;\n",
       "    }\n",
       "\n",
       "    .dataframe tbody tr th {\n",
       "        vertical-align: top;\n",
       "    }\n",
       "\n",
       "    .dataframe thead th {\n",
       "        text-align: right;\n",
       "    }\n",
       "</style>\n",
       "<table border=\"1\" class=\"dataframe\">\n",
       "  <thead>\n",
       "    <tr style=\"text-align: right;\">\n",
       "      <th></th>\n",
       "      <th>City</th>\n",
       "      <th>Lat</th>\n",
       "      <th>Lng</th>\n",
       "      <th>Max Temp</th>\n",
       "      <th>Humidity</th>\n",
       "      <th>Cloudiness</th>\n",
       "      <th>Wind Speed</th>\n",
       "      <th>Country</th>\n",
       "      <th>Date</th>\n",
       "    </tr>\n",
       "  </thead>\n",
       "  <tbody>\n",
       "    <tr>\n",
       "      <td>0</td>\n",
       "      <td>butaritari</td>\n",
       "      <td>3.07</td>\n",
       "      <td>172.79</td>\n",
       "      <td>83.32</td>\n",
       "      <td>74</td>\n",
       "      <td>84</td>\n",
       "      <td>10.42</td>\n",
       "      <td>KI</td>\n",
       "      <td>1593605283</td>\n",
       "    </tr>\n",
       "    <tr>\n",
       "      <td>1</td>\n",
       "      <td>yerbogachen</td>\n",
       "      <td>61.28</td>\n",
       "      <td>108.01</td>\n",
       "      <td>79.52</td>\n",
       "      <td>58</td>\n",
       "      <td>20</td>\n",
       "      <td>7.70</td>\n",
       "      <td>RU</td>\n",
       "      <td>1593605121</td>\n",
       "    </tr>\n",
       "    <tr>\n",
       "      <td>2</td>\n",
       "      <td>cape town</td>\n",
       "      <td>-33.93</td>\n",
       "      <td>18.42</td>\n",
       "      <td>73.00</td>\n",
       "      <td>77</td>\n",
       "      <td>27</td>\n",
       "      <td>4.70</td>\n",
       "      <td>ZA</td>\n",
       "      <td>1593605039</td>\n",
       "    </tr>\n",
       "    <tr>\n",
       "      <td>3</td>\n",
       "      <td>touba</td>\n",
       "      <td>8.28</td>\n",
       "      <td>-7.68</td>\n",
       "      <td>79.97</td>\n",
       "      <td>75</td>\n",
       "      <td>82</td>\n",
       "      <td>3.58</td>\n",
       "      <td>CI</td>\n",
       "      <td>1593605284</td>\n",
       "    </tr>\n",
       "    <tr>\n",
       "      <td>4</td>\n",
       "      <td>jamestown</td>\n",
       "      <td>42.10</td>\n",
       "      <td>-79.24</td>\n",
       "      <td>64.00</td>\n",
       "      <td>88</td>\n",
       "      <td>1</td>\n",
       "      <td>6.93</td>\n",
       "      <td>US</td>\n",
       "      <td>1593605284</td>\n",
       "    </tr>\n",
       "  </tbody>\n",
       "</table>\n",
       "</div>"
      ],
      "text/plain": [
       "          City    Lat     Lng  Max Temp  Humidity  Cloudiness  Wind Speed  \\\n",
       "0   butaritari   3.07  172.79     83.32        74          84       10.42   \n",
       "1  yerbogachen  61.28  108.01     79.52        58          20        7.70   \n",
       "2    cape town -33.93   18.42     73.00        77          27        4.70   \n",
       "3        touba   8.28   -7.68     79.97        75          82        3.58   \n",
       "4    jamestown  42.10  -79.24     64.00        88           1        6.93   \n",
       "\n",
       "  Country        Date  \n",
       "0      KI  1593605283  \n",
       "1      RU  1593605121  \n",
       "2      ZA  1593605039  \n",
       "3      CI  1593605284  \n",
       "4      US  1593605284  "
      ]
     },
     "execution_count": 19,
     "metadata": {},
     "output_type": "execute_result"
    }
   ],
   "source": [
    "# Make a new DataFrame equal to the city data to drop all humidity outliers by index.\n",
    "# Passing \"inplace=False\" will make a copy of the city_data DataFrame, which we call \"clean_city_data\".\n"
   ]
  },
  {
   "cell_type": "code",
   "execution_count": null,
   "metadata": {},
   "outputs": [],
   "source": [
    "\n"
   ]
  },
  {
   "cell_type": "markdown",
   "metadata": {},
   "source": [
    "## Plotting the Data\n",
    "* Use proper labeling of the plots using plot titles (including date of analysis) and axes labels.\n",
    "* Save the plotted figures as .pngs."
   ]
  },
  {
   "cell_type": "markdown",
   "metadata": {},
   "source": [
    "## Latitude vs. Temperature Plot"
   ]
  },
  {
   "cell_type": "code",
   "execution_count": 71,
   "metadata": {
    "scrolled": true
   },
   "outputs": [
    {
     "data": {
      "image/png": "[encoded data removed]",
      "text/plain": [
       "<Figure size 432x288 with 1 Axes>"
      ]
     },
     "metadata": {
      "needs_background": "light"
     },
     "output_type": "display_data"
    }
   ],
   "source": [
    "plt.scatter(pd.to_numeric(cities_df[\"latitude\"]).astype(float), pd.to_numeric(cities_df[\"temperature\"]).astype(float), facecolors=\"blue\")\n",
    "plt.title(f\"Latitude vs. Temperature\")\n",
    "plt.xlabel(\"Latitude\")\n",
    "plt.ylabel(\"Temperature\") \n",
    "plt.show()"
   ]
  },
  {
   "cell_type": "markdown",
   "metadata": {},
   "source": [
    "## Latitude vs. Humidity Plot"
   ]
  },
  {
   "cell_type": "code",
   "execution_count": 80,
   "metadata": {},
   "outputs": [
    {
     "data": {
      "text/plain": [
       "Text(0.5, 1.0, 'Latitude vs humidity)')"
      ]
     },
     "execution_count": 80,
     "metadata": {},
     "output_type": "execute_result"
    },
    {
     "data": {
      "image/png": "[encoded data removed]",
      "text/plain": [
       "<Figure size 432x288 with 1 Axes>"
      ]
     },
     "metadata": {
      "needs_background": "light"
     },
     "output_type": "display_data"
    }
   ],
   "source": [
    "plt.scatter(pd.to_numeric(cities_df[\"latitude\"]).astype(float), pd.to_numeric(cities_df[\"humidity\"]).astype(float), facecolors=\"blue\")\n",
    "plt.xlabel(\"latitude\")\n",
    "plt.ylabel(\"humidity\")\n",
    "plt.title(f\"Latitude vs humidity)\")\n",
    "plt.show()"
   ]
  },
  {
   "cell_type": "markdown",
   "metadata": {},
   "source": [
    "## Latitude vs. Cloudiness Plot"
   ]
  },
  {
   "cell_type": "code",
   "execution_count": 83,
   "metadata": {},
   "outputs": [
    {
     "data": {
      "image/png": "[encoded data removed]",
      "text/plain": [
       "<Figure size 432x288 with 1 Axes>"
      ]
     },
     "metadata": {
      "needs_background": "light"
     },
     "output_type": "display_data"
    }
   ],
   "source": [
    "plt.scatter(pd.to_numeric(cities_df[\"latitude\"]).astype(float), pd.to_numeric(cities_df[\"cloudiness\"]).astype(float), color=\"red\")\n",
    "plt.xlabel(\"latitude\")\n",
    "plt.ylabel(\"cloudiness\")\n",
    "plt.title(f\"Latitude vs cloudiness)\")\n",
    "plt.show()"
   ]
  },
  {
   "cell_type": "markdown",
   "metadata": {},
   "source": [
    "## Latitude vs. Wind Speed Plot"
   ]
  },
  {
   "cell_type": "code",
   "execution_count": 84,
   "metadata": {},
   "outputs": [
    {
     "data": {
      "image/png": "[encoded data removed]",
      "text/plain": [
       "<Figure size 432x288 with 1 Axes>"
      ]
     },
     "metadata": {
      "needs_background": "light"
     },
     "output_type": "display_data"
    }
   ],
   "source": [
    "plt.scatter(pd.to_numeric(cities_df[\"latitude\"]).astype(float), pd.to_numeric(cities_df[\"windspeed\"]).astype(float), color=\"red\")\n",
    "plt.xlabel(\"latitude\")\n",
    "plt.ylabel(\"wind speed\")\n",
    "plt.title(f\"Latitude vs wind speed)\")\n",
    "plt.show()"
   ]
  },
  {
   "cell_type": "markdown",
   "metadata": {},
   "source": [
    "## Linear Regression"
   ]
  },
  {
   "cell_type": "code",
   "execution_count": 85,
   "metadata": {},
   "outputs": [
    {
     "data": {
      "text/html": [
       "<div>\n",
       "<style scoped>\n",
       "    .dataframe tbody tr th:only-of-type {\n",
       "        vertical-align: middle;\n",
       "    }\n",
       "\n",
       "    .dataframe tbody tr th {\n",
       "        vertical-align: top;\n",
       "    }\n",
       "\n",
       "    .dataframe thead th {\n",
       "        text-align: right;\n",
       "    }\n",
       "</style>\n",
       "<table border=\"1\" class=\"dataframe\">\n",
       "  <thead>\n",
       "    <tr style=\"text-align: right;\">\n",
       "      <th></th>\n",
       "      <th>city</th>\n",
       "      <th>latitude</th>\n",
       "      <th>temperature</th>\n",
       "      <th>humidity</th>\n",
       "      <th>cloudiness</th>\n",
       "      <th>windspeed</th>\n",
       "    </tr>\n",
       "  </thead>\n",
       "  <tbody>\n",
       "    <tr>\n",
       "      <th>0</th>\n",
       "      <td>ribeira grande</td>\n",
       "      <td>38.5167</td>\n",
       "      <td>283.72</td>\n",
       "      <td>65</td>\n",
       "      <td>98</td>\n",
       "      <td>11.12</td>\n",
       "    </tr>\n",
       "    <tr>\n",
       "      <th>3</th>\n",
       "      <td>jamestown</td>\n",
       "      <td>42.097</td>\n",
       "      <td>273.72</td>\n",
       "      <td>72</td>\n",
       "      <td>100</td>\n",
       "      <td>4.12</td>\n",
       "    </tr>\n",
       "    <tr>\n",
       "      <th>4</th>\n",
       "      <td>mecca</td>\n",
       "      <td>21.4267</td>\n",
       "      <td>293.36</td>\n",
       "      <td>73</td>\n",
       "      <td>0</td>\n",
       "      <td>0.36</td>\n",
       "    </tr>\n",
       "    <tr>\n",
       "      <th>7</th>\n",
       "      <td>kyshtovka</td>\n",
       "      <td>56.555</td>\n",
       "      <td>263.35</td>\n",
       "      <td>93</td>\n",
       "      <td>100</td>\n",
       "      <td>4.47</td>\n",
       "    </tr>\n",
       "    <tr>\n",
       "      <th>10</th>\n",
       "      <td>genhe</td>\n",
       "      <td>50.7833</td>\n",
       "      <td>259.27</td>\n",
       "      <td>72</td>\n",
       "      <td>100</td>\n",
       "      <td>1.57</td>\n",
       "    </tr>\n",
       "  </tbody>\n",
       "</table>\n",
       "</div>"
      ],
      "text/plain": [
       "              city latitude temperature humidity cloudiness windspeed\n",
       "0   ribeira grande  38.5167      283.72       65         98     11.12\n",
       "3        jamestown   42.097      273.72       72        100      4.12\n",
       "4            mecca  21.4267      293.36       73          0      0.36\n",
       "7        kyshtovka   56.555      263.35       93        100      4.47\n",
       "10           genhe  50.7833      259.27       72        100      1.57"
      ]
     },
     "execution_count": 85,
     "metadata": {},
     "output_type": "execute_result"
    }
   ],
   "source": [
    "#create dataframes for northern (lat > 0) and southern hemisphere (lat < 0)\n",
    "northern_df = cities_df.loc[pd.to_numeric(cities_df[\"latitude\"]).astype(float) > 0, :]\n",
    "northern_df.head()"
   ]
  },
  {
   "cell_type": "code",
   "execution_count": 86,
   "metadata": {},
   "outputs": [
    {
     "data": {
      "text/html": [
       "<div>\n",
       "<style scoped>\n",
       "    .dataframe tbody tr th:only-of-type {\n",
       "        vertical-align: middle;\n",
       "    }\n",
       "\n",
       "    .dataframe tbody tr th {\n",
       "        vertical-align: top;\n",
       "    }\n",
       "\n",
       "    .dataframe thead th {\n",
       "        text-align: right;\n",
       "    }\n",
       "</style>\n",
       "<table border=\"1\" class=\"dataframe\">\n",
       "  <thead>\n",
       "    <tr style=\"text-align: right;\">\n",
       "      <th></th>\n",
       "      <th>city</th>\n",
       "      <th>latitude</th>\n",
       "      <th>temperature</th>\n",
       "      <th>humidity</th>\n",
       "      <th>cloudiness</th>\n",
       "      <th>windspeed</th>\n",
       "    </tr>\n",
       "  </thead>\n",
       "  <tbody>\n",
       "    <tr>\n",
       "      <th>1</th>\n",
       "      <td>kaitangata</td>\n",
       "      <td>-46.2817</td>\n",
       "      <td>293.11</td>\n",
       "      <td>65</td>\n",
       "      <td>24</td>\n",
       "      <td>2.92</td>\n",
       "    </tr>\n",
       "    <tr>\n",
       "      <th>5</th>\n",
       "      <td>atuona</td>\n",
       "      <td>-9.8</td>\n",
       "      <td>299.18</td>\n",
       "      <td>74</td>\n",
       "      <td>9</td>\n",
       "      <td>8.52</td>\n",
       "    </tr>\n",
       "    <tr>\n",
       "      <th>6</th>\n",
       "      <td>touros</td>\n",
       "      <td>-5.1989</td>\n",
       "      <td>299.65</td>\n",
       "      <td>77</td>\n",
       "      <td>12</td>\n",
       "      <td>3.14</td>\n",
       "    </tr>\n",
       "    <tr>\n",
       "      <th>8</th>\n",
       "      <td>hermanus</td>\n",
       "      <td>-34.4187</td>\n",
       "      <td>291.43</td>\n",
       "      <td>81</td>\n",
       "      <td>6</td>\n",
       "      <td>6.52</td>\n",
       "    </tr>\n",
       "    <tr>\n",
       "      <th>9</th>\n",
       "      <td>lebu</td>\n",
       "      <td>-37.6167</td>\n",
       "      <td>287.01</td>\n",
       "      <td>79</td>\n",
       "      <td>0</td>\n",
       "      <td>7.29</td>\n",
       "    </tr>\n",
       "  </tbody>\n",
       "</table>\n",
       "</div>"
      ],
      "text/plain": [
       "         city latitude temperature humidity cloudiness windspeed\n",
       "1  kaitangata -46.2817      293.11       65         24      2.92\n",
       "5      atuona     -9.8      299.18       74          9      8.52\n",
       "6      touros  -5.1989      299.65       77         12      3.14\n",
       "8    hermanus -34.4187      291.43       81          6      6.52\n",
       "9        lebu -37.6167      287.01       79          0      7.29"
      ]
     },
     "execution_count": 86,
     "metadata": {},
     "output_type": "execute_result"
    }
   ],
   "source": [
    "southern_df = cities_df.loc[pd.to_numeric(cities_df[\"latitude\"]).astype(float) < 0, :]\n",
    "southern_df.head()"
   ]
  },
  {
   "cell_type": "markdown",
   "metadata": {},
   "source": [
    "####  Northern Hemisphere - Max Temp vs. Latitude Linear Regression"
   ]
  },
  {
   "cell_type": "code",
   "execution_count": 102,
   "metadata": {},
   "outputs": [
    {
     "name": "stdout",
     "output_type": "stream",
     "text": [
      "The r-squared is: -0.8634194776033257\n"
     ]
    },
    {
     "data": {
      "image/png": "[encoded data removed]",
      "text/plain": [
       "<Figure size 432x288 with 1 Axes>"
      ]
     },
     "metadata": {
      "needs_background": "light"
     },
     "output_type": "display_data"
    }
   ],
   "source": [
    "x_values = pd.to_numeric(northern_df['latitude']).astype(float)\n",
    "y_values = pd.to_numeric(northern_df['temperature']).astype(float)\n",
    "\n",
    "(slope, intercept, rvalue, pvalue, stderr) = linregress(x_values, y_values)\n",
    "regress_values = x_values * slope + intercept\n",
    "line_eq = \"y = \" + str(round(slope,2)) + \"x + \" + str(round(intercept,2))\n",
    "\n",
    "plt.scatter(x_values,y_values)\n",
    "plt.plot(x_values,regress_values,\"r-\")\n",
    "plt.annotate(line_eq,(6,240),fontsize=15,color=\"red\") ##<<- not appearing??\n",
    "plt.xlabel('latitude')\n",
    "plt.ylabel('temp')\n",
    "print(f\"The r-squared is: {rvalue}\")\n",
    "plt.show()"
   ]
  },
  {
   "cell_type": "markdown",
   "metadata": {},
   "source": [
    "####  Southern Hemisphere - Max Temp vs. Latitude Linear Regression"
   ]
  },
  {
   "cell_type": "code",
   "execution_count": 101,
   "metadata": {},
   "outputs": [
    {
     "name": "stdout",
     "output_type": "stream",
     "text": [
      "The r-squared is: 0.34658109403346266\n"
     ]
    },
    {
     "data": {
      "image/png": "[encoded data removed]",
      "text/plain": [
       "<Figure size 432x288 with 1 Axes>"
      ]
     },
     "metadata": {
      "needs_background": "light"
     },
     "output_type": "display_data"
    }
   ],
   "source": [
    "x_values = pd.to_numeric(southern_df['latitude']).astype(float)\n",
    "y_values = pd.to_numeric(southern_df['temperature']).astype(float)\n",
    "\n",
    "(slope, intercept, rvalue, pvalue, stderr) = linregress(x_values, y_values)\n",
    "regress_values = x_values * slope + intercept\n",
    "line_eq = \"y = \" + str(round(slope,2)) + \"x + \" + str(round(intercept,2))\n",
    "\n",
    "plt.scatter(x_values,y_values)\n",
    "plt.plot(x_values,regress_values,\"r-\")\n",
    "plt.annotate(line_eq,(-50,310),fontsize=15,color=\"red\") ##<<- not appearing??\n",
    "plt.xlabel('latitude')\n",
    "plt.ylabel('max temp')\n",
    "print(f\"The r-squared is: {rvalue}\")\n",
    "plt.show()"
   ]
  },
  {
   "cell_type": "markdown",
   "metadata": {},
   "source": [
    "####  Northern Hemisphere - Humidity (%) vs. Latitude Linear Regression"
   ]
  },
  {
   "cell_type": "code",
   "execution_count": 92,
   "metadata": {},
   "outputs": [
    {
     "name": "stdout",
     "output_type": "stream",
     "text": [
      "The r-squared is: 0.44631730981219037\n"
     ]
    },
    {
     "data": {
      "image/png": "[encoded data removed]",
      "text/plain": [
       "<Figure size 432x288 with 1 Axes>"
      ]
     },
     "metadata": {
      "needs_background": "light"
     },
     "output_type": "display_data"
    }
   ],
   "source": [
    "x_values = pd.to_numeric(northern_df['latitude']).astype(float)\n",
    "y_values = pd.to_numeric(northern_df['humidity']).astype(float)\n",
    "\n",
    "(slope, intercept, rvalue, pvalue, stderr) = linregress(x_values, y_values)\n",
    "regress_values = x_values * slope + intercept\n",
    "line_eq = \"y = \" + str(round(slope,2)) + \"x + \" + str(round(intercept,2))\n",
    "\n",
    "plt.scatter(x_values,y_values)\n",
    "plt.plot(x_values,regress_values,\"r-\")\n",
    "plt.annotate(line_eq,(6,10),fontsize=15,color=\"red\")\n",
    "plt.xlabel('latitude')\n",
    "plt.ylabel('humidity')\n",
    "print(f\"The r-squared is: {rvalue}\")\n",
    "plt.show()"
   ]
  },
  {
   "cell_type": "markdown",
   "metadata": {},
   "source": [
    "####  Southern Hemisphere - Humidity (%) vs. Latitude Linear Regression"
   ]
  },
  {
   "cell_type": "code",
   "execution_count": 98,
   "metadata": {},
   "outputs": [
    {
     "name": "stdout",
     "output_type": "stream",
     "text": [
      "The r-squared is: 0.4082936500622412\n"
     ]
    },
    {
     "data": {
      "image/png": "[encoded data removed]",
      "text/plain": [
       "<Figure size 432x288 with 1 Axes>"
      ]
     },
     "metadata": {
      "needs_background": "light"
     },
     "output_type": "display_data"
    }
   ],
   "source": [
    "x_values = pd.to_numeric(southern_df['latitude']).astype(float)\n",
    "y_values = pd.to_numeric(southern_df['humidity']).astype(float)\n",
    "\n",
    "(slope, intercept, rvalue, pvalue, stderr) = linregress(x_values, y_values)\n",
    "regress_values = x_values * slope + intercept\n",
    "line_eq = \"y = \" + str(round(slope,2)) + \"x + \" + str(round(intercept,2))\n",
    "\n",
    "plt.scatter(x_values,y_values)\n",
    "plt.plot(x_values,regress_values,\"r-\")\n",
    "plt.annotate(line_eq,(-50,10),fontsize=15,color=\"red\")\n",
    "plt.xlabel('latitude')\n",
    "plt.ylabel('humidity')\n",
    "print(f\"The r-squared is: {rvalue}\")\n",
    "plt.show()"
   ]
  },
  {
   "cell_type": "markdown",
   "metadata": {},
   "source": [
    "####  Northern Hemisphere - Cloudiness (%) vs. Latitude Linear Regression"
   ]
  },
  {
   "cell_type": "code",
   "execution_count": 94,
   "metadata": {},
   "outputs": [
    {
     "name": "stdout",
     "output_type": "stream",
     "text": [
      "The r-squared is: 0.3558788203649687\n"
     ]
    },
    {
     "data": {
      "image/png": "[encoded data removed]",
      "text/plain": [
       "<Figure size 432x288 with 1 Axes>"
      ]
     },
     "metadata": {
      "needs_background": "light"
     },
     "output_type": "display_data"
    }
   ],
   "source": [
    "x_values = pd.to_numeric(northern_df['latitude']).astype(float)\n",
    "y_values = pd.to_numeric(northern_df['cloudiness']).astype(float)\n",
    "\n",
    "(slope, intercept, rvalue, pvalue, stderr) = linregress(x_values, y_values)\n",
    "regress_values = x_values * slope + intercept\n",
    "line_eq = \"y = \" + str(round(slope,2)) + \"x + \" + str(round(intercept,2))\n",
    "\n",
    "plt.scatter(x_values,y_values)\n",
    "plt.plot(x_values,regress_values,\"r-\")\n",
    "plt.annotate(line_eq,(6,10),fontsize=15,color=\"red\")\n",
    "plt.xlabel('latitude')\n",
    "plt.ylabel('cloudiness')\n",
    "print(f\"The r-squared is: {rvalue}\")\n",
    "plt.show()"
   ]
  },
  {
   "cell_type": "markdown",
   "metadata": {},
   "source": [
    "####  Southern Hemisphere - Cloudiness (%) vs. Latitude Linear Regression"
   ]
  },
  {
   "cell_type": "code",
   "execution_count": 103,
   "metadata": {},
   "outputs": [
    {
     "name": "stdout",
     "output_type": "stream",
     "text": [
      "The r-squared is: 0.4222382574393889\n"
     ]
    },
    {
     "data": {
      "image/png": "[encoded data removed]",
      "text/plain": [
       "<Figure size 432x288 with 1 Axes>"
      ]
     },
     "metadata": {
      "needs_background": "light"
     },
     "output_type": "display_data"
    }
   ],
   "source": [
    "x_values = pd.to_numeric(southern_df['latitude']).astype(float)\n",
    "y_values = pd.to_numeric(southern_df['cloudiness']).astype(float)\n",
    "\n",
    "(slope, intercept, rvalue, pvalue, stderr) = linregress(x_values, y_values)\n",
    "regress_values = x_values * slope + intercept\n",
    "line_eq = \"y = \" + str(round(slope,2)) + \"x + \" + str(round(intercept,2))\n",
    "\n",
    "plt.scatter(x_values,y_values)\n",
    "plt.plot(x_values,regress_values,\"r-\")\n",
    "plt.annotate(line_eq,(-50,100),fontsize=15,color=\"red\")\n",
    "plt.xlabel('latitude')\n",
    "plt.ylabel('cloudiness')\n",
    "print(f\"The r-squared is: {rvalue}\")\n",
    "plt.show()"
   ]
  },
  {
   "cell_type": "markdown",
   "metadata": {},
   "source": [
    "####  Northern Hemisphere - Wind Speed (mph) vs. Latitude Linear Regression"
   ]
  },
  {
   "cell_type": "code",
   "execution_count": 104,
   "metadata": {},
   "outputs": [
    {
     "name": "stdout",
     "output_type": "stream",
     "text": [
      "The r-squared is: 0.20343942648924965\n"
     ]
    },
    {
     "data": {
      "image/png": "[encoded data removed]",
      "text/plain": [
       "<Figure size 432x288 with 1 Axes>"
      ]
     },
     "metadata": {
      "needs_background": "light"
     },
     "output_type": "display_data"
    }
   ],
   "source": [
    "x_values = pd.to_numeric(northern_df['latitude']).astype(float)\n",
    "y_values = pd.to_numeric(northern_df['windspeed']).astype(float)\n",
    "\n",
    "(slope, intercept, rvalue, pvalue, stderr) = linregress(x_values, y_values)\n",
    "regress_values = x_values * slope + intercept\n",
    "line_eq = \"y = \" + str(round(slope,2)) + \"x + \" + str(round(intercept,2))\n",
    "\n",
    "plt.scatter(x_values,y_values)\n",
    "plt.plot(x_values,regress_values,\"r-\")\n",
    "plt.annotate(line_eq,(6,10),fontsize=15,color=\"red\")\n",
    "plt.xlabel('latitude')\n",
    "plt.ylabel('wind speed')\n",
    "print(f\"The r-squared is: {rvalue}\")\n",
    "plt.show()"
   ]
  },
  {
   "cell_type": "markdown",
   "metadata": {},
   "source": [
    "####  Southern Hemisphere - Wind Speed (mph) vs. Latitude Linear Regression"
   ]
  },
  {
   "cell_type": "code",
   "execution_count": 106,
   "metadata": {},
   "outputs": [
    {
     "name": "stdout",
     "output_type": "stream",
     "text": [
      "The r-squared is: -0.3385453388404835\n"
     ]
    },
    {
     "data": {
      "image/png": "[encoded data removed]",
      "text/plain": [
       "<Figure size 432x288 with 1 Axes>"
      ]
     },
     "metadata": {
      "needs_background": "light"
     },
     "output_type": "display_data"
    }
   ],
   "source": [
    "x_values = pd.to_numeric(southern_df['latitude']).astype(float)\n",
    "y_values = pd.to_numeric(southern_df['windspeed']).astype(float)\n",
    "\n",
    "(slope, intercept, rvalue, pvalue, stderr) = linregress(x_values, y_values)\n",
    "regress_values = x_values * slope + intercept\n",
    "line_eq = \"y = \" + str(round(slope,2)) + \"x + \" + str(round(intercept,2))\n",
    "\n",
    "plt.scatter(x_values,y_values)\n",
    "plt.plot(x_values,regress_values,\"r-\")\n",
    "plt.annotate(line_eq,(-50,10),fontsize=15,color=\"red\")\n",
    "plt.xlabel('latitude')\n",
    "plt.ylabel('wind speed')\n",
    "print(f\"The r-squared is: {rvalue}\")\n",
    "plt.show()"
   ]
  },
  {
   "cell_type": "code",
   "execution_count": 117,
   "metadata": {},
   "outputs": [],
   "source": [
    "cities_df.to_csv(\"../output_data/weather.csv\", index=False, header=True)"
   ]
  },
  {
   "cell_type": "code",
   "execution_count": null,
   "metadata": {},
   "outputs": [],
   "source": []
  }
 ],
 "metadata": {
  "anaconda-cloud": {},
  "kernel_info": {
   "name": "python3"
  },
  "kernelspec": {
   "display_name": "Python 3 (ipykernel)",
   "language": "python",
   "name": "python3"
  },
  "language_info": {
   "codemirror_mode": {
    "name": "ipython",
    "version": 3
   },
   "file_extension": ".py",
   "mimetype": "text/x-python",
   "name": "python",
   "nbconvert_exporter": "python",
   "pygments_lexer": "ipython3",
   "version": "3.9.7"
  },
  "latex_envs": {
   "LaTeX_envs_menu_present": true,
   "autoclose": false,
   "autocomplete": true,
   "bibliofile": "biblio.bib",
   "cite_by": "apalike",
   "current_citInitial": 1,
   "eqLabelWithNumbers": true,
   "eqNumInitial": 1,
   "hotkeys": {
    "equation": "Ctrl-E",
    "itemize": "Ctrl-I"
   },
   "labels_anchors": false,
   "latex_user_defs": false,
   "report_style_numbering": false,
   "user_envs_cfg": false
  },
  "nteract": {
   "version": "0.12.3"
  }
 },
 "nbformat": 4,
 "nbformat_minor": 2
}
